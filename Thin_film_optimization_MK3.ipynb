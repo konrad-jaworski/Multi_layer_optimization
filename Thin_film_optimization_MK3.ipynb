{
 "cells": [
  {
   "cell_type": "code",
   "id": "initial_id",
   "metadata": {
    "collapsed": true,
    "ExecuteTime": {
     "end_time": "2025-03-20T16:44:43.191884Z",
     "start_time": "2025-03-20T16:44:42.155683Z"
    }
   },
   "source": [
    "from torch_tmm import Model, BaseLayer, BaseMaterial\n",
    "from torch_tmm.dispersion import Constant_epsilon, Lorentz,Drude,LorentzComplete\n",
    "import torch\n",
    "from lmfit import Parameters,Minimizer\n",
    "import random\n",
    "import matplotlib.pyplot as plt\n",
    "import torch.nn as nn\n",
    "\n",
    "random.seed(1)\n",
    "\n",
    "dtype=torch.complex64\n",
    "device=torch.device('cpu')\n",
    "\n",
    "n=10 #number of filter slots on each wheel\n",
    "N=n**2-1 #Total number if combinations of filters\n",
    "\n",
    "wavelengths = torch.linspace(8000, 14000, 99)*1e-9 # in [m]\n",
    "# wavelengths = torch.linspace(8000, 14000, 99) # in [nm]\n",
    "angles = torch.linspace(0, 89, 90)"
   ],
   "outputs": [],
   "execution_count": 1
  },
  {
   "metadata": {},
   "cell_type": "markdown",
   "source": "<h2> Set up of dispersion functions and materials",
   "id": "a377a49eed760aa6"
  },
  {
   "metadata": {
    "ExecuteTime": {
     "end_time": "2025-03-20T16:44:43.198120Z",
     "start_time": "2025-03-20T16:44:43.195227Z"
    }
   },
   "cell_type": "code",
   "source": [
    "#Defining dispersion models\n",
    "env_disp = [Constant_epsilon(torch.nn.Parameter(torch.tensor(1,dtype=dtype,device=device)), dtype, device)]\n",
    "subs_disp = [Constant_epsilon(torch.nn.Parameter(torch.tensor(3.41**2,dtype=dtype,device=device)), dtype, device)]\n",
    "\n",
    "\n",
    "Au_disp=[Drude(A=torch.nn.Parameter(torch.tensor(1,dtype=dtype,device=device)),E0=torch.nn.Parameter(torch.tensor(80.92,dtype=dtype,device=device)),C=torch.nn.Parameter(torch.tensor(0.25,dtype=dtype,device=device)),dtype=dtype,device=device)]\n",
    "\n",
    "Ti_disp=[Drude(A=torch.nn.Parameter(torch.tensor(1,dtype=dtype,device=device)),E0=torch.nn.Parameter(torch.tensor(10.06881,dtype=dtype,device=device)),C=torch.nn.Parameter(torch.tensor(0.15458,dtype=dtype,device=device)),device=device,dtype=dtype)]\n",
    "\n",
    "aSi_disp=[LorentzComplete(A=torch.nn.Parameter(torch.tensor(0.002,dtype=dtype,device=device)),E0=torch.nn.Parameter(torch.tensor(0.08,dtype=dtype,device=device)),C=torch.nn.Parameter(torch.tensor(0.014,dtype=dtype,device=device)),Con=torch.nn.Parameter(torch.tensor(12,dtype=dtype,device=device)),dtype=dtype,device=device)]"
   ],
   "id": "d2ff9642e5b0db5b",
   "outputs": [],
   "execution_count": 2
  },
  {
   "metadata": {
    "ExecuteTime": {
     "end_time": "2025-03-20T16:44:43.276741Z",
     "start_time": "2025-03-20T16:44:43.275133Z"
    }
   },
   "cell_type": "code",
   "source": [
    "# plt.plot(wavelengths.detach(), Ti_disp[0].refractive_index(wavelengths).real.detach(), linestyle='-', color='b', label='Real part')\n",
    "# plt.plot(wavelengths.detach(), Ti_disp[0].refractive_index(wavelengths).imag.detach(), linestyle='--', color='r', label='Imaginary part')\n",
    "#\n",
    "# Add labels and legend\n",
    "# plt.xlabel(\"Wavelength (m)\")\n",
    "# plt.ylabel(\"Refractive Index\")\n",
    "# plt.legend()\n",
    "# plt.grid(True)\n",
    "# plt.title('Refraction of Ti')\n",
    "#\n",
    "# Show plot\n",
    "# plt.show()"
   ],
   "id": "79c3eb45c9c64c9f",
   "outputs": [],
   "execution_count": 3
  },
  {
   "metadata": {
    "ExecuteTime": {
     "end_time": "2025-03-20T16:44:43.617706Z",
     "start_time": "2025-03-20T16:44:43.615769Z"
    }
   },
   "cell_type": "code",
   "source": [
    "# plt.plot(wavelengths.detach(), Au_disp[0].refractive_index(wavelengths).real.detach(), linestyle='-', color='b', label='Real part')\n",
    "# plt.plot(wavelengths.detach(), Au_disp[0].refractive_index(wavelengths).imag.detach(), linestyle='--', color='r', label='Imaginary part')\n",
    "#\n",
    "# Add labels and legend\n",
    "# plt.xlabel(\"Wavelength (m)\")\n",
    "# plt.ylabel(\"Refractive Index\")\n",
    "# plt.legend()\n",
    "# plt.grid(True)\n",
    "# plt.title('Refraction of Au')\n",
    "#\n",
    "# Show plot\n",
    "# plt.show()"
   ],
   "id": "2ed55143fc966cce",
   "outputs": [],
   "execution_count": 4
  },
  {
   "metadata": {
    "ExecuteTime": {
     "end_time": "2025-03-20T16:44:43.931026Z",
     "start_time": "2025-03-20T16:44:43.929256Z"
    }
   },
   "cell_type": "code",
   "source": [
    "# plt.show()\n",
    "# plt.plot(wavelengths.detach(), aSi_disp[0].refractive_index(wavelengths).real.detach(), linestyle='-', color='b',\n",
    "#          label='Real part')\n",
    "# plt.plot(wavelengths.detach(), aSi_disp[0].refractive_index(wavelengths).imag.detach(), linestyle='--', color='r',\n",
    "#          label='Imaginary part')\n",
    "#\n",
    "# Add labels and legend\n",
    "# plt.xlabel(\"Wavelength (m)\")\n",
    "# plt.ylabel(\"Refractive Index\")\n",
    "# plt.legend()\n",
    "# plt.grid(True)\n",
    "# plt.title('Refraction of aSi')\n",
    "#\n",
    "# Show plot\n",
    "# plt.show()"
   ],
   "id": "4b94a68bea5c1aad",
   "outputs": [],
   "execution_count": 5
  },
  {
   "metadata": {
    "ExecuteTime": {
     "end_time": "2025-03-20T16:44:44.316047Z",
     "start_time": "2025-03-20T16:44:44.313758Z"
    }
   },
   "cell_type": "code",
   "source": [
    "# Defining materials\n",
    "env_mat = BaseMaterial(env_disp,name = 'air',dtype= dtype,device= device)\n",
    "subs_mat = BaseMaterial(subs_disp,name = 'c_Si',dtype= dtype, device=device)\n",
    "\n",
    "Ti_mat=BaseMaterial(Ti_disp,name = 'Ti',dtype= dtype,device= device)\n",
    "Au_mat=BaseMaterial(Au_disp,name = 'Au',dtype= dtype,device= device)\n",
    "aSi_mat=BaseMaterial(aSi_disp,name = 'aSi',dtype= dtype,device= device)"
   ],
   "id": "12cedc2df5f45968",
   "outputs": [],
   "execution_count": 6
  },
  {
   "metadata": {},
   "cell_type": "markdown",
   "source": "<h1> First version just optimized aSi thickness",
   "id": "dec810d695da0e16"
  },
  {
   "metadata": {
    "ExecuteTime": {
     "end_time": "2025-03-20T12:17:58.880094Z",
     "start_time": "2025-03-20T12:17:58.877288Z"
    }
   },
   "cell_type": "code",
   "source": [
    "# Defining layers for aSi optimization\n",
    "env=BaseLayer(env_mat,thickness=torch.nn.Parameter(torch.tensor(0,dtype=dtype,device=device)),LayerType='env')\n",
    "subs=BaseLayer(subs_mat,thickness=torch.nn.Parameter(torch.tensor(0,dtype=dtype,device=device)),LayerType='subs')\n",
    "Au=BaseLayer(Au_mat,thickness=torch.nn.Parameter(torch.tensor(7e-9,dtype=dtype,device=device)),LayerType='coh')\n",
    "Ti=BaseLayer(Ti_mat,thickness=torch.nn.Parameter(torch.tensor(2e-9,dtype=dtype,device=device)),LayerType='coh')"
   ],
   "id": "7d15741614e113ee",
   "outputs": [],
   "execution_count": 7
  },
  {
   "metadata": {},
   "cell_type": "markdown",
   "source": "<h2> Functions to generate geometry of filters on wheel case fo just aSi thickness",
   "id": "4e68cae3bb3fc3f7"
  },
  {
   "metadata": {
    "ExecuteTime": {
     "end_time": "2025-03-20T12:18:04.402506Z",
     "start_time": "2025-03-20T12:18:04.399029Z"
    }
   },
   "cell_type": "code",
   "source": [
    "def generate_single_filter(aSi_thickness):\n",
    "\n",
    "    \"\"\"Generate individual filter response.\n",
    "\n",
    "    Parameters:\n",
    "    ----------\n",
    "    aSi_thickness :  torch.nn.Parameter\n",
    "        Thickness of amorphous silicon\n",
    "\n",
    "    Returns:\n",
    "    --------\n",
    "    Pytorch tensor : Transmission of one filter response in shape 1 x w\n",
    "\n",
    "    \"\"\"\n",
    "    aSi = BaseLayer(aSi_mat, thickness=aSi_thickness, LayerType='coh')\n",
    "\n",
    "    # Model of the thin film geometry\n",
    "    model = Model(env, [aSi,Au,Ti], subs, dtype, device)\n",
    "    results= model.evaluate(wavelengths, angles[45].reshape(1,))\n",
    "\n",
    "    # Model of the substrate\n",
    "    model_Si=Model(env,[],subs,dtype,device)\n",
    "    results_Si=model_Si.evaluate(wavelengths,angles[45].reshape(1,))\n",
    "\n",
    "    # Transmissions and reflections of the substrate\n",
    "    Reflection_Si=(results_Si.reflection('s')+results_Si.reflection('p'))/2\n",
    "    Transmission_Si=(results_Si.transmission('s')+results_Si.transmission('p'))/2\n",
    "\n",
    "    # Transmission and reflection of the filter\n",
    "    Reflection=(results.reflection('s')+results.reflection('p'))/2\n",
    "    Transmission=(results.transmission('s')+results.transmission('p'))/2\n",
    "\n",
    "    output=(Transmission*Transmission_Si)/(1-Reflection*Reflection_Si)\n",
    "    return  output.T"
   ],
   "id": "7d82677ff7edaabc",
   "outputs": [],
   "execution_count": 11
  },
  {
   "metadata": {
    "ExecuteTime": {
     "end_time": "2025-03-20T12:18:04.995512Z",
     "start_time": "2025-03-20T12:18:04.992122Z"
    }
   },
   "cell_type": "code",
   "source": [
    "def filter_wheel(params):\n",
    "\n",
    "    \"\"\" Generate geometry matrix of filters responses. First nine entries represents individual responses on one wheel and next nine entries represents second wheel. Rest of the entries are combinations of them.\n",
    "\n",
    "    Parameters:\n",
    "    ----------\n",
    "    params : Pythorch tensor\n",
    "        Consist of thickness values for each layer obtained from lmfit_to_torch_values() function\n",
    "\n",
    "    Returns:\n",
    "    -------\n",
    "    G_m : Pytorch tensor\n",
    "        Corresponds to Pytorch tensor which holds all possible combinations of filter responses in format of  N x w\n",
    "\n",
    "     \"\"\"\n",
    "\n",
    "    num_filters = n - 1  # Number of individual filters per wheel\n",
    "    total_transmissions = num_filters * 2  # First and second sets of transmissions\n",
    "\n",
    "    # Generate single filter responses and remove extra dim to make them [99]\n",
    "    transmission_list = [generate_single_filter(params[i]).squeeze(0) for i in range(num_filters)]\n",
    "    transmission_list += [generate_single_filter(params[num_filters + i]).squeeze(0) for i in range(num_filters)]\n",
    "\n",
    "    # Stack transmissions -> Shape [18, 99]\n",
    "    transmissions = torch.stack(transmission_list)\n",
    "\n",
    "    # Initialize G_m with individual transmissions\n",
    "    G_m = transmissions.clone()  # Shape [18, 99]\n",
    "\n",
    "    # Pre-allocate space for combinations\n",
    "    new_combinations = []\n",
    "\n",
    "    for i in range(num_filters):\n",
    "        for j in range(num_filters, total_transmissions):\n",
    "            if G_m.shape[0] < n ** 2 - 1:\n",
    "                combination = transmissions[i] * transmissions[j]  # Element-wise multiplication\n",
    "                new_combinations.append(combination)\n",
    "\n",
    "    if new_combinations:\n",
    "        # Stack and ensure correct shape\n",
    "        new_combinations = torch.stack(new_combinations)\n",
    "        G_m = torch.cat([G_m, new_combinations], dim=0)\n",
    "\n",
    "    return G_m"
   ],
   "id": "cea3d0bd06b432c1",
   "outputs": [],
   "execution_count": 12
  },
  {
   "metadata": {},
   "cell_type": "markdown",
   "source": "<h1> Does functions are used independend of number of parameters to be optimized",
   "id": "d9e46b5a484d8a1f"
  },
  {
   "metadata": {
    "ExecuteTime": {
     "end_time": "2025-03-20T16:44:54.879951Z",
     "start_time": "2025-03-20T16:44:54.877402Z"
    }
   },
   "cell_type": "code",
   "source": [
    "def Dirac():\n",
    "\n",
    "    \"\"\" Creates Dirac delta matrix.\n",
    "\n",
    "    Parameters:\n",
    "    ----------\n",
    "\n",
    "    Returns :\n",
    "    ---------\n",
    "    Pytorch tensor\n",
    "        Matrix contains w x M matrix with Dirac delta functions at different positions\n",
    "    \"\"\"\n",
    "\n",
    "    w = len(wavelengths)  # Number of wavelength points (rows)\n",
    "    M = n**2 - 1  # Number of Dirac delta positions (columns)\n",
    "\n",
    "    row_indices = torch.arange(w)\n",
    "    col_indices = torch.arange(M)\n",
    "\n",
    "    # Create zeros matrix (leaf tensor with requires_grad=True)\n",
    "    D_m = torch.zeros(w, M, dtype=torch.float32)  # Initially all zeros\n",
    "\n",
    "    # Use of functional assignment without in-place modification\n",
    "    D_m = D_m + torch.sparse_coo_tensor(\n",
    "    indices=torch.stack([row_indices, col_indices]),\n",
    "    values=torch.ones(row_indices.size(0), dtype=torch.float32),\n",
    "    size=(w, M)\n",
    "    ).to_dense()\n",
    "\n",
    "    return D_m"
   ],
   "id": "3e7d5b72f37c09bf",
   "outputs": [],
   "execution_count": 7
  },
  {
   "metadata": {
    "ExecuteTime": {
     "end_time": "2025-03-20T16:44:55.229378Z",
     "start_time": "2025-03-20T16:44:55.226943Z"
    }
   },
   "cell_type": "code",
   "source": [
    "def lmfit_to_torch_values(Parameters, dtype=torch.float32, device='cpu'):\n",
    "    \"\"\"\n",
    "    Convert a lmfit Parameters object into a single torch nn.Parameter object.\n",
    "\n",
    "    Args:\n",
    "        lmfit_params (Parameters): An lmfit.Parameters object containing parameter values.\n",
    "        dtype (torch.dtype, optional): Data type for the tensors. Default is torch.float32.\n",
    "        device (str or torch.device, optional): Device where the tensors will be stored. Default is 'cpu'.\n",
    "\n",
    "    Returns:\n",
    "        torch.Tensor: A single tensor containing all parameters, with requires_grad set to True.\n",
    "    \"\"\"\n",
    "    return torch.nn.Parameter(torch.tensor([param.value for param in Parameters.values()], dtype=dtype, device=device, requires_grad=True))\n",
    "\n"
   ],
   "id": "36e7d6981c1f7a02",
   "outputs": [],
   "execution_count": 8
  },
  {
   "metadata": {},
   "cell_type": "markdown",
   "source": "<h2>Setting parameters for optimization",
   "id": "366e1e58390ac483"
  },
  {
   "metadata": {
    "ExecuteTime": {
     "end_time": "2025-03-20T12:18:07.305670Z",
     "start_time": "2025-03-20T12:18:07.303244Z"
    }
   },
   "cell_type": "code",
   "source": "params=Parameters()",
   "id": "8293c765e9389143",
   "outputs": [],
   "execution_count": 15
  },
  {
   "metadata": {
    "ExecuteTime": {
     "end_time": "2025-03-20T12:18:08.050907Z",
     "start_time": "2025-03-20T12:18:08.047906Z"
    }
   },
   "cell_type": "code",
   "source": [
    "# Thickness of amorphous silicon layer\n",
    "for i in range((n-1)*2):\n",
    "    params.add(f'filter_{i+1}',value=random.uniform(1000e-9,6000e-9),min=1000e-9,max=6000e-9)"
   ],
   "id": "e2aa37599ab7e761",
   "outputs": [],
   "execution_count": 16
  },
  {
   "metadata": {},
   "cell_type": "markdown",
   "source": "<h2> Objective function",
   "id": "5602a417f762e0a8"
  },
  {
   "metadata": {
    "ExecuteTime": {
     "end_time": "2025-03-20T13:02:16.077256Z",
     "start_time": "2025-03-20T13:02:16.074249Z"
    }
   },
   "cell_type": "code",
   "source": [
    "def Objective(params):\n",
    "\n",
    "    \"\"\"Computes objective function residual.\n",
    "\n",
    "    Objective function accepts Pytorch tensor and returns a scalar value also as a Pytorch tensor. This method allows for autograd functionality.\n",
    "\n",
    "    1. Generate geometry matrix\n",
    "    2. Generate Dirac delta matrix\n",
    "    3. Calculate coefficient matrix\n",
    "    4. Approximation of Dirac delta matrix from Coefficient matrix and Geometry matrix\n",
    "    5. Frobenius norm of residual of Dirac matrices\n",
    "\n",
    "    Parameters:\n",
    "    ----------\n",
    "        params : Pytorch tensor obtained from lmfit_to_torch_values function\n",
    "\n",
    "    Returns:\n",
    "    ---------\n",
    "        Pytorch tensor\n",
    "            Scalar value representing Frobenius norm\n",
    "\n",
    "    \"\"\"\n",
    "\n",
    "    # 1. From params -> Geometry matrix\n",
    "    G_m=filter_wheel(params) # Already transposed inside of function\n",
    "\n",
    "    # 2. Construction of Dirac delta matrix\n",
    "    D_m=Dirac()\n",
    "\n",
    "    # 3. Coefficient matrix formulation\n",
    "    C_m=torch.matmul(G_m,D_m)\n",
    "\n",
    "    # 4. Approximating the Dirac delta matrix\n",
    "    D_app=torch.linalg.lstsq(G_m,C_m,driver='gelsd')\n",
    "\n",
    "    # 5. Calculating norm of residual of Dirac matrices\n",
    "    r=torch.norm(D_app[0]-D_m,p='fro')\n",
    "\n",
    "    return r"
   ],
   "id": "3b1bf57060ce6436",
   "outputs": [],
   "execution_count": 6
  },
  {
   "metadata": {},
   "cell_type": "markdown",
   "source": "<h1> get_Jacobian and get_hessian are both used for both optimizaton",
   "id": "9f85fbc72f759fc9"
  },
  {
   "metadata": {
    "ExecuteTime": {
     "end_time": "2025-03-20T16:45:01.122630Z",
     "start_time": "2025-03-20T16:45:01.120563Z"
    }
   },
   "cell_type": "code",
   "source": [
    "def get_jacobian(params):\n",
    "    \"\"\" Jacobian functional which get as an input params object of lmfit but does not use it to calculate it. It rather takes its value calculated inside of residual() function.\"\"\"\n",
    "    global Jacobian, Jaccobian_counter\n",
    "    Jaccobian_counter+=1\n",
    "    return Jacobian"
   ],
   "id": "bcaaf70738ad567a",
   "outputs": [],
   "execution_count": 9
  },
  {
   "metadata": {
    "ExecuteTime": {
     "end_time": "2025-03-20T16:45:01.405386Z",
     "start_time": "2025-03-20T16:45:01.403428Z"
    }
   },
   "cell_type": "code",
   "source": [
    "def get_hessian(params):\n",
    "    \"\"\" Hessian functional which get as an input params object which is for now I don't know but does not use it anyway  to calculate Hessian. It rather takes its value calculated inside of residual() function.\"\"\"\n",
    "    global Hessian, Hessian_counter\n",
    "    Hessian_counter+=1\n",
    "    return Hessian"
   ],
   "id": "36dcc45ecdd1efbf",
   "outputs": [],
   "execution_count": 10
  },
  {
   "metadata": {
    "ExecuteTime": {
     "end_time": "2025-03-20T13:02:23.672296Z",
     "start_time": "2025-03-20T13:02:23.669555Z"
    }
   },
   "cell_type": "code",
   "source": [
    "def residuals(params):\n",
    "    \"\"\" Lmfit wrapper of the Pythorch objective function. It takes as input parameters object of lmfit and outputs scalar value of numpy type. All autograd functionality is preserved and calculated inside as well as Jacobian and Hessian.\n",
    "\n",
    "     Parameters : lmfit.Parameters object\n",
    "\n",
    "     Returns : numpy scalar value\n",
    "\n",
    "     \"\"\"\n",
    "\n",
    "    param_tensor = lmfit_to_torch_values(params) # Converting to Pytorch tensor\n",
    "\n",
    "    global Jacobian, Hessian, Residuals_over, optimization_index,Optimization_counter\n",
    "\n",
    "    # Jacobian and Hessian calculations\n",
    "    Jacobian=torch.autograd.functional.jacobian(Objective,param_tensor).detach().numpy()\n",
    "    Hessian=torch.autograd.functional.hessian(Objective,param_tensor).detach().numpy()\n",
    "\n",
    "    residual_value=Objective(param_tensor) # Keeps PyTorch graph active\n",
    "\n",
    "    # Detaching residual from computational graph and appending it to history of residuals\n",
    "    residual_value = residual_value.detach().numpy()\n",
    "    Residuals_over.append(residual_value)\n",
    "    Optimization_counter+=1\n",
    "    optimization_index.append(Optimization_counter)\n",
    "\n",
    "    return residual_value"
   ],
   "id": "979db1410fa365c6",
   "outputs": [],
   "execution_count": 9
  },
  {
   "metadata": {},
   "cell_type": "markdown",
   "source": "<h2> Optimization setup",
   "id": "b12b3cb4f37c1393"
  },
  {
   "metadata": {
    "ExecuteTime": {
     "end_time": "2025-03-20T12:18:18.444631Z",
     "start_time": "2025-03-20T12:18:18.442645Z"
    }
   },
   "cell_type": "code",
   "source": [
    "Jacobian=[]\n",
    "Hessian=[]"
   ],
   "id": "131a5ee2677c5d78",
   "outputs": [],
   "execution_count": 21
  },
  {
   "metadata": {
    "ExecuteTime": {
     "end_time": "2025-03-20T12:18:18.652339Z",
     "start_time": "2025-03-20T12:18:18.650304Z"
    }
   },
   "cell_type": "code",
   "source": [
    "Residuals_over=[]\n",
    "optimization_index=[]"
   ],
   "id": "5d5aa8682e141f52",
   "outputs": [],
   "execution_count": 22
  },
  {
   "metadata": {
    "ExecuteTime": {
     "end_time": "2025-03-20T12:18:19.035175Z",
     "start_time": "2025-03-20T12:18:19.033044Z"
    }
   },
   "cell_type": "code",
   "source": [
    "Jaccobian_counter=0\n",
    "Hessian_counter=0\n",
    "Optimization_counter=1"
   ],
   "id": "8f9eb9c3187334cd",
   "outputs": [],
   "execution_count": 23
  },
  {
   "metadata": {
    "ExecuteTime": {
     "end_time": "2025-03-20T12:03:53.813077Z",
     "start_time": "2025-03-20T12:03:31.227756Z"
    }
   },
   "cell_type": "code",
   "source": [
    "minimizer = Minimizer(residuals, params)\n",
    "result = minimizer.minimize(method='trust-exact',jac=get_jacobian,hess=get_hessian)"
   ],
   "id": "e0075f494bd93592",
   "outputs": [],
   "execution_count": 178
  },
  {
   "metadata": {
    "ExecuteTime": {
     "end_time": "2025-03-20T12:07:02.021893Z",
     "start_time": "2025-03-20T12:07:02.018053Z"
    }
   },
   "cell_type": "code",
   "source": "Jaccobian_counter",
   "id": "48c0333d685646c8",
   "outputs": [
    {
     "data": {
      "text/plain": [
       "1"
      ]
     },
     "execution_count": 179,
     "metadata": {},
     "output_type": "execute_result"
    }
   ],
   "execution_count": 179
  },
  {
   "metadata": {
    "ExecuteTime": {
     "end_time": "2025-03-20T12:07:02.730905Z",
     "start_time": "2025-03-20T12:07:02.727985Z"
    }
   },
   "cell_type": "code",
   "source": "Hessian_counter",
   "id": "74ff861b9f0525c3",
   "outputs": [
    {
     "data": {
      "text/plain": [
       "1"
      ]
     },
     "execution_count": 180,
     "metadata": {},
     "output_type": "execute_result"
    }
   ],
   "execution_count": 180
  },
  {
   "metadata": {
    "ExecuteTime": {
     "end_time": "2025-03-20T12:07:04.445536Z",
     "start_time": "2025-03-20T12:07:04.368554Z"
    }
   },
   "cell_type": "code",
   "source": [
    "plt.plot(optimization_index,Residuals_over)\n",
    "plt.title('Value of residuals using Least-Squares method')\n",
    "plt.grid(True)\n",
    "plt.xlabel('Optimization iteration')\n",
    "plt.ylabel('Residuals value')"
   ],
   "id": "c01e3305d4bd4df4",
   "outputs": [
    {
     "data": {
      "text/plain": [
       "Text(0, 0.5, 'Residuals value')"
      ]
     },
     "execution_count": 181,
     "metadata": {},
     "output_type": "execute_result"
    },
    {
     "data": {
      "text/plain": [
       "<Figure size 640x480 with 1 Axes>"
      ],
      "image/png": "[encoded data removed]"
     },
     "metadata": {},
     "output_type": "display_data"
    }
   ],
   "execution_count": 181
  },
  {
   "metadata": {
    "ExecuteTime": {
     "end_time": "2025-03-20T12:07:12.790734Z",
     "start_time": "2025-03-20T12:07:12.787594Z"
    }
   },
   "cell_type": "code",
   "source": "result",
   "id": "aebf3c74734e09d7",
   "outputs": [
    {
     "data": {
      "text/plain": [
       "<lmfit.minimizer.MinimizerResult at 0x2c85d8e30>"
      ],
      "text/html": [
       "<h2>Fit Result</h2> <table class=\"jp-toc-ignore\"><caption class=\"jp-toc-ignore\">Fit Statistics</caption><tr><td style='text-align:left'>fitting method</td><td style='text-align:right'>trust-ncg</td></tr><tr><td style='text-align:left'># function evals</td><td style='text-align:right'>30</td></tr><tr><td style='text-align:left'># data points</td><td style='text-align:right'>1</td></tr><tr><td style='text-align:left'># variables</td><td style='text-align:right'>18</td></tr><tr><td style='text-align:left'>chi-square</td><td style='text-align:right'> 70.0436641</td></tr><tr><td style='text-align:left'>reduced chi-square</td><td style='text-align:right'> 70.0436641</td></tr><tr><td style='text-align:left'>Akaike info crit.</td><td style='text-align:right'> 40.2491188</td></tr><tr><td style='text-align:left'>Bayesian info crit.</td><td style='text-align:right'> 4.24911882</td></tr></table><table class=\"jp-toc-ignore\"><caption>Parameters</caption><tr><th style='text-align:left'>name</th><th style='text-align:left'>value</th><th style='text-align:left'>initial value</th><th style='text-align:left'>min</th><th style='text-align:left'>max</th><th style='text-align:right'>vary</th></tr><tr><td style='text-align:left'>filter_1</td><td style='text-align:left'> 1.5482e-06</td><td style='text-align:left'>1.5482456517532958e-06</td><td style='text-align:left'> 1.0000e-06</td><td style='text-align:left'> 6.0000e-06</td><td style='text-align:right'>True</td></tr><tr><td style='text-align:left'>filter_2</td><td style='text-align:left'> 4.1372e-06</td><td style='text-align:left'>4.13723020851545e-06</td><td style='text-align:left'> 1.0000e-06</td><td style='text-align:left'> 6.0000e-06</td><td style='text-align:right'>True</td></tr><tr><td style='text-align:left'>filter_3</td><td style='text-align:left'> 4.9604e-06</td><td style='text-align:left'>4.9603968218148205e-06</td><td style='text-align:left'> 1.0000e-06</td><td style='text-align:left'> 6.0000e-06</td><td style='text-align:right'>True</td></tr><tr><td style='text-align:left'>filter_4</td><td style='text-align:left'> 3.1108e-06</td><td style='text-align:left'>3.1107998339984202e-06</td><td style='text-align:left'> 1.0000e-06</td><td style='text-align:left'> 6.0000e-06</td><td style='text-align:right'>True</td></tr><tr><td style='text-align:left'>filter_5</td><td style='text-align:left'> 1.3176e-06</td><td style='text-align:left'>1.3176385307597857e-06</td><td style='text-align:left'> 1.0000e-06</td><td style='text-align:left'> 6.0000e-06</td><td style='text-align:right'>True</td></tr><tr><td style='text-align:left'>filter_6</td><td style='text-align:left'> 2.9081e-06</td><td style='text-align:left'>2.9080964325326837e-06</td><td style='text-align:left'> 1.0000e-06</td><td style='text-align:left'> 6.0000e-06</td><td style='text-align:right'>True</td></tr><tr><td style='text-align:left'>filter_7</td><td style='text-align:left'> 5.9806e-06</td><td style='text-align:left'>5.980606901200484e-06</td><td style='text-align:left'> 1.0000e-06</td><td style='text-align:left'> 6.0000e-06</td><td style='text-align:right'>True</td></tr><tr><td style='text-align:left'>filter_8</td><td style='text-align:left'> 3.6456e-06</td><td style='text-align:left'>3.6455717254956855e-06</td><td style='text-align:left'> 1.0000e-06</td><td style='text-align:left'> 6.0000e-06</td><td style='text-align:right'>True</td></tr><tr><td style='text-align:left'>filter_9</td><td style='text-align:left'> 5.8554e-06</td><td style='text-align:left'>5.8553918880680905e-06</td><td style='text-align:left'> 1.0000e-06</td><td style='text-align:left'> 6.0000e-06</td><td style='text-align:right'>True</td></tr><tr><td style='text-align:left'>filter_10</td><td style='text-align:left'> 5.3039e-06</td><td style='text-align:left'>5.30389851117249e-06</td><td style='text-align:left'> 1.0000e-06</td><td style='text-align:left'> 6.0000e-06</td><td style='text-align:right'>True</td></tr><tr><td style='text-align:left'>filter_11</td><td style='text-align:left'> 1.0574e-06</td><td style='text-align:left'>1.0574051097140982e-06</td><td style='text-align:left'> 1.0000e-06</td><td style='text-align:left'> 6.0000e-06</td><td style='text-align:right'>True</td></tr><tr><td style='text-align:left'>filter_12</td><td style='text-align:left'> 4.6036e-06</td><td style='text-align:left'>4.603609096800973e-06</td><td style='text-align:left'> 1.0000e-06</td><td style='text-align:left'> 6.0000e-06</td><td style='text-align:right'>True</td></tr><tr><td style='text-align:left'>filter_13</td><td style='text-align:left'> 4.4086e-06</td><td style='text-align:left'>4.408551845132874e-06</td><td style='text-align:left'> 1.0000e-06</td><td style='text-align:left'> 6.0000e-06</td><td style='text-align:right'>True</td></tr><tr><td style='text-align:left'>filter_14</td><td style='text-align:left'> 3.6849e-06</td><td style='text-align:left'>3.684851652043976e-06</td><td style='text-align:left'> 1.0000e-06</td><td style='text-align:left'> 6.0000e-06</td><td style='text-align:right'>True</td></tr><tr><td style='text-align:left'>filter_15</td><td style='text-align:left'> 2.3341e-06</td><td style='text-align:left'>2.334125949762714e-06</td><td style='text-align:left'> 1.0000e-06</td><td style='text-align:left'> 6.0000e-06</td><td style='text-align:right'>True</td></tr><tr><td style='text-align:left'>filter_16</td><td style='text-align:left'> 4.2048e-06</td><td style='text-align:left'>4.20480899289904e-06</td><td style='text-align:left'> 1.0000e-06</td><td style='text-align:left'> 6.0000e-06</td><td style='text-align:right'>True</td></tr><tr><td style='text-align:left'>filter_17</td><td style='text-align:left'> 1.5578e-06</td><td style='text-align:left'>1.5577608679793822e-06</td><td style='text-align:left'> 1.0000e-06</td><td style='text-align:left'> 6.0000e-06</td><td style='text-align:right'>True</td></tr><tr><td style='text-align:left'>filter_18</td><td style='text-align:left'> 3.1738e-06</td><td style='text-align:left'>3.1738262533455253e-06</td><td style='text-align:left'> 1.0000e-06</td><td style='text-align:left'> 6.0000e-06</td><td style='text-align:right'>True</td></tr></table>"
      ]
     },
     "execution_count": 182,
     "metadata": {},
     "output_type": "execute_result"
    }
   ],
   "execution_count": 182
  },
  {
   "metadata": {
    "ExecuteTime": {
     "end_time": "2025-03-20T12:07:39.796031Z",
     "start_time": "2025-03-20T12:07:39.793623Z"
    }
   },
   "cell_type": "code",
   "source": "optimal_parameters=result.params",
   "id": "6b36be36bcd9fd7c",
   "outputs": [],
   "execution_count": 183
  },
  {
   "metadata": {
    "ExecuteTime": {
     "end_time": "2025-03-20T12:07:40.144640Z",
     "start_time": "2025-03-20T12:07:40.142597Z"
    }
   },
   "cell_type": "code",
   "source": "torch_optimal=lmfit_to_torch_values(optimal_parameters)",
   "id": "c2933977543414e8",
   "outputs": [],
   "execution_count": 184
  },
  {
   "metadata": {
    "ExecuteTime": {
     "end_time": "2025-03-20T12:07:40.363259Z",
     "start_time": "2025-03-20T12:07:40.361170Z"
    }
   },
   "cell_type": "code",
   "source": "# torch.save(torch_optimal, 'optimal_parameters_ls.pt')",
   "id": "943ac7c5420b7d30",
   "outputs": [],
   "execution_count": 185
  },
  {
   "metadata": {
    "ExecuteTime": {
     "end_time": "2025-03-20T12:07:40.641060Z",
     "start_time": "2025-03-20T12:07:40.524013Z"
    }
   },
   "cell_type": "code",
   "source": "G_m_opt=filter_wheel(torch_optimal)",
   "id": "ecccd42ba7777214",
   "outputs": [],
   "execution_count": 186
  },
  {
   "metadata": {
    "ExecuteTime": {
     "end_time": "2025-03-20T12:07:40.696676Z",
     "start_time": "2025-03-20T12:07:40.694667Z"
    }
   },
   "cell_type": "code",
   "source": "D_m_comparison=Dirac()",
   "id": "bffa0fd9d62b83e2",
   "outputs": [],
   "execution_count": 187
  },
  {
   "metadata": {
    "ExecuteTime": {
     "end_time": "2025-03-20T12:07:40.873836Z",
     "start_time": "2025-03-20T12:07:40.872209Z"
    }
   },
   "cell_type": "code",
   "source": "C_m_opt=torch.matmul(G_m_opt,D_m_comparison)",
   "id": "88170353626d1fb5",
   "outputs": [],
   "execution_count": 188
  },
  {
   "metadata": {
    "ExecuteTime": {
     "end_time": "2025-03-20T12:07:41.351028Z",
     "start_time": "2025-03-20T12:07:41.337040Z"
    }
   },
   "cell_type": "code",
   "source": "D_opt=torch.linalg.lstsq(G_m_opt,C_m_opt,driver='gelsd')",
   "id": "6b7a7d716362a844",
   "outputs": [],
   "execution_count": 189
  },
  {
   "metadata": {
    "ExecuteTime": {
     "end_time": "2025-03-20T12:08:10.702652Z",
     "start_time": "2025-03-20T12:08:10.641351Z"
    }
   },
   "cell_type": "code",
   "source": [
    "pos=90\n",
    "plt.plot(wavelengths.detach().numpy(),D_opt[0][:,pos].detach().numpy(),label='Optimization effect')\n",
    "plt.plot(wavelengths.detach().numpy(),D_m_comparison[:,pos].detach().numpy(),label='Reference')\n",
    "plt.legend()\n",
    "plt.grid(True)\n",
    "plt.title('Optimization effect')\n",
    "plt.xlabel('Wavelength [m]')\n",
    "plt.ylabel('Intensity [a.u.]')\n",
    "plt.show()"
   ],
   "id": "7fd7e8f3a040e8b4",
   "outputs": [
    {
     "data": {
      "text/plain": [
       "<Figure size 640x480 with 1 Axes>"
      ],
      "image/png": "[encoded data removed]"
     },
     "metadata": {},
     "output_type": "display_data"
    }
   ],
   "execution_count": 199
  },
  {
   "metadata": {},
   "cell_type": "markdown",
   "source": "<h1>Approcha with all parameters changing",
   "id": "f9d9f8fbaf5f60d3"
  },
  {
   "metadata": {
    "ExecuteTime": {
     "end_time": "2025-03-20T16:45:07.093466Z",
     "start_time": "2025-03-20T16:45:07.091111Z"
    }
   },
   "cell_type": "code",
   "source": [
    "env=BaseLayer(env_mat,thickness=torch.nn.Parameter(torch.tensor(0,dtype=dtype,device=device)),LayerType='env')\n",
    "subs=BaseLayer(subs_mat,thickness=torch.nn.Parameter(torch.tensor(0,dtype=dtype,device=device)),LayerType='subs')"
   ],
   "id": "c80a8810374d5cdd",
   "outputs": [],
   "execution_count": 11
  },
  {
   "metadata": {
    "ExecuteTime": {
     "end_time": "2025-03-20T16:45:07.526358Z",
     "start_time": "2025-03-20T16:45:07.523135Z"
    }
   },
   "cell_type": "code",
   "source": [
    "def generate_single_filter_expanded(aSi_thickness,Au_thickness,Ti_thickness):\n",
    "\n",
    "    \"\"\"Generate individual filter response.\n",
    "\n",
    "    Parameters:\n",
    "    ----------\n",
    "    aSi_thickness :  torch.nn.Parameter\n",
    "        Thickness of amorphous silicon\n",
    "\n",
    "    Au_thickness :  torch.nn.Parameter\n",
    "        Thickness of gold\n",
    "\n",
    "    Ti_thickness :  torch.nn.Parameter\n",
    "        Thickness of titanium\n",
    "\n",
    "    Returns:\n",
    "    --------\n",
    "    Pytorch tensor : Transmission of one filter response in shape 1 x w\n",
    "\n",
    "    \"\"\"\n",
    "    Au=BaseLayer(Au_mat,thickness=Au_thickness,LayerType='coh')\n",
    "    Ti=BaseLayer(Ti_mat,thickness=Ti_thickness,LayerType='coh')\n",
    "    aSi = BaseLayer(aSi_mat, thickness=aSi_thickness, LayerType='coh')\n",
    "\n",
    "    # Model of the thin film geometry\n",
    "    model = Model(env, [aSi,Au,Ti], subs, dtype, device)\n",
    "    results= model.evaluate(wavelengths, angles[45].reshape(1,))\n",
    "\n",
    "    # Model of the substrate\n",
    "    model_Si=Model(env,[],subs,dtype,device)\n",
    "    results_Si=model_Si.evaluate(wavelengths,angles[45].reshape(1,))\n",
    "\n",
    "    # Transmissions and reflections of the substrate\n",
    "    Reflection_Si=(results_Si.reflection('s')+results_Si.reflection('p'))/2\n",
    "    Transmission_Si=(results_Si.transmission('s')+results_Si.transmission('p'))/2\n",
    "\n",
    "    # Transmission and reflection of the filter\n",
    "    Reflection=(results.reflection('s')+results.reflection('p'))/2\n",
    "    Transmission=(results.transmission('s')+results.transmission('p'))/2\n",
    "\n",
    "    output=(Transmission*Transmission_Si)/(1-Reflection*Reflection_Si)\n",
    "    return  output.T"
   ],
   "id": "37ef3c024f826a32",
   "outputs": [],
   "execution_count": 12
  },
  {
   "metadata": {
    "ExecuteTime": {
     "end_time": "2025-03-20T16:45:08.832126Z",
     "start_time": "2025-03-20T16:45:08.828496Z"
    }
   },
   "cell_type": "code",
   "source": [
    "def filter_wheel_expanded(params):\n",
    "\n",
    "    \"\"\" Generate geometry matrix of filters responses. First nine entries represents individual responses on one wheel and next nine entries represents second wheel. Rest of the entries are combinations of them.\n",
    "\n",
    "    Parameters:\n",
    "    ----------\n",
    "    params : Pythorch tensor\n",
    "        Consist of thickness values for each layer obtained from params2tensor() function\n",
    "\n",
    "    Returns:\n",
    "    -------\n",
    "    G_m : Pytorch tensor\n",
    "        Corresponds to Pytorch tensor which holds all possible combinations of filter responses in format of  N x w\n",
    "\n",
    "     \"\"\"\n",
    "\n",
    "    num_filters = n - 1  # Number of individual filters per wheel\n",
    "    total_transmissions = num_filters * 2  # First and second sets of transmissions\n",
    "\n",
    "    # Generate single filter responses and remove extra dim to make them [99]\n",
    "    transmission_list = [generate_single_filter_expanded(params[i+(3*(n-1))],params[i+(2*(n-1))],params[i]).squeeze(0) for i in range(num_filters)]\n",
    "    transmission_list += [generate_single_filter_expanded(params[num_filters + i + (3*(n-1))],params[num_filters + i + (2*(n-1))],params[num_filters + i]).squeeze(0) for i in range(num_filters)]\n",
    "\n",
    "    # Stack transmissions -> Shape [18, 99]\n",
    "    transmissions = torch.stack(transmission_list)\n",
    "\n",
    "    # Initialize G_m with individual transmissions\n",
    "    G_m = transmissions.clone()  # Shape [18, 99]\n",
    "\n",
    "    # Pre-allocate space for combinations\n",
    "    new_combinations = []\n",
    "\n",
    "    for i in range(num_filters):\n",
    "        for j in range(num_filters, total_transmissions):\n",
    "            if G_m.shape[0] < n ** 2 - 1:\n",
    "                combination = transmissions[i] * transmissions[j]  # Element-wise multiplication\n",
    "                new_combinations.append(combination)\n",
    "\n",
    "    if new_combinations:\n",
    "        # Stack and ensure correct shape\n",
    "        new_combinations = torch.stack(new_combinations)\n",
    "        G_m = torch.cat([G_m, new_combinations], dim=0)\n",
    "\n",
    "    return G_m"
   ],
   "id": "c11159a4c121e6e9",
   "outputs": [],
   "execution_count": 13
  },
  {
   "metadata": {
    "ExecuteTime": {
     "end_time": "2025-03-20T16:45:09.411372Z",
     "start_time": "2025-03-20T16:45:09.408770Z"
    }
   },
   "cell_type": "code",
   "source": [
    "def Objective_expanded(params):\n",
    "\n",
    "    \"\"\"Computes objective function residual.\n",
    "\n",
    "    Objective function accepts Pytorch tensor and returns a scalar value also as a Pytorch tensor. This method allows for autograd functionality.\n",
    "\n",
    "    1. Generate geometry matrix\n",
    "    2. Generate Dirac delta matrix\n",
    "    3. Calculate coefficient matrix\n",
    "    4. Approximation of Dirac delta matrix from Coefficient matrix and Geometry matrix\n",
    "    5. Frobenius norm of residual of Dirac matrices\n",
    "\n",
    "    Parameters:\n",
    "    ----------\n",
    "        params : Pytorch tensor obtained from lmfit_to_torch_values function\n",
    "\n",
    "    Returns:\n",
    "    ---------\n",
    "        Pytorch tensor\n",
    "            Scalar value representing Frobenius norm\n",
    "\n",
    "    \"\"\"\n",
    "\n",
    "    # 1. From params -> Geometry matrix\n",
    "    G_m=filter_wheel_expanded(params) # Already transposed inside of method\n",
    "\n",
    "    # 2. Construction of Dirac delta matrix\n",
    "    D_m=Dirac()\n",
    "\n",
    "    # 3. Coefficient matrix formulation\n",
    "    C_m=torch.matmul(G_m,D_m)\n",
    "\n",
    "    # 4. Approximating the Dirac delta matrix\n",
    "    D_app=torch.linalg.lstsq(G_m,C_m,driver='gelsd')\n",
    "\n",
    "    # 5. Calculating norm of residual of Dirac matrices\n",
    "    r=torch.norm(D_app[0]-D_m,p='fro')\n",
    "\n",
    "    return r"
   ],
   "id": "7d173fc62ab9e0db",
   "outputs": [],
   "execution_count": 14
  },
  {
   "metadata": {
    "ExecuteTime": {
     "end_time": "2025-03-20T16:45:09.934352Z",
     "start_time": "2025-03-20T16:45:09.931475Z"
    }
   },
   "cell_type": "code",
   "source": [
    "def residuals_expanded(params):\n",
    "    \"\"\" Lmfit wrapper of the Pythorch objective function. It takes as input parameters object of lmfit and outputs scalar value of numpy type. All autograd functionality is preserved and calculated inside as well as Jacobian and Hessian.\n",
    "\n",
    "     Parameters : lmfit.Parameters object\n",
    "\n",
    "     Returns : numpy scalar value\n",
    "\n",
    "     \"\"\"\n",
    "\n",
    "    param_tensor = lmfit_to_torch_values(params) # Converting to Pytorch tensor\n",
    "\n",
    "    global Jacobian, Hessian, Residuals_over, optimization_index,Optimization_counter\n",
    "\n",
    "    # Jacobian and Hessian calculations\n",
    "    Jacobian=torch.autograd.functional.jacobian(Objective_expanded,param_tensor).detach().numpy()\n",
    "    Hessian=torch.autograd.functional.hessian(Objective_expanded,param_tensor).detach().numpy()\n",
    "\n",
    "    residual_value=Objective_expanded(param_tensor) # Keeps PyTorch graph active\n",
    "\n",
    "    # Detaching residual from computational graph and appending it to history of residuals\n",
    "    residual_value = residual_value.detach().numpy()\n",
    "    Residuals_over.append(residual_value)\n",
    "    Optimization_counter+=1\n",
    "    optimization_index.append(Optimization_counter)\n",
    "\n",
    "    return residual_value"
   ],
   "id": "9504bda320c775b",
   "outputs": [],
   "execution_count": 15
  },
  {
   "metadata": {
    "ExecuteTime": {
     "end_time": "2025-03-20T16:45:10.899225Z",
     "start_time": "2025-03-20T16:45:10.893943Z"
    }
   },
   "cell_type": "code",
   "source": [
    "params = Parameters()\n",
    "# Thickness of amorphous silicon layer\n",
    "\n",
    "for i in range((n - 1) * 2):\n",
    "    params.add(f'Ti_filter_{i + 1}', value=random.uniform(1e-9, 10e-9), min=1e-9, max=10e-9)\n",
    "\n",
    "for i in range((n - 1) * 2):\n",
    "    params.add(f'Au_filter_{i + 1}', value=random.uniform(1e-9, 10e-9), min=1e-9, max=10e-9)\n",
    "\n",
    "for i in range((n - 1) * 2):\n",
    "    params.add(f'aSi_filter_{i + 1}', value=random.uniform(1000e-9, 6000e-9), min=1000e-9, max=6000e-9)"
   ],
   "id": "cdb3a30f39480ff1",
   "outputs": [],
   "execution_count": 16
  },
  {
   "metadata": {},
   "cell_type": "markdown",
   "source": "<h1>Random guess with parameters",
   "id": "104531d471f0446b"
  },
  {
   "metadata": {
    "ExecuteTime": {
     "end_time": "2025-03-20T16:39:53.470476Z",
     "start_time": "2025-03-20T16:39:53.468338Z"
    }
   },
   "cell_type": "code",
   "source": "torch_random=lmfit_to_torch_values(params)",
   "id": "bb97ff10cb578110",
   "outputs": [],
   "execution_count": 14
  },
  {
   "metadata": {
    "ExecuteTime": {
     "end_time": "2025-03-20T16:39:54.076441Z",
     "start_time": "2025-03-20T16:39:54.044522Z"
    }
   },
   "cell_type": "code",
   "source": [
    "# Generate geometries from random parameters\n",
    "G_random=filter_wheel_expanded(torch_random) #already transposed\n",
    "# Matrix of Dirac delta\n",
    "D_random=Dirac()\n",
    "# Coefficient matrix\n",
    "C_random=torch.matmul(G_random,D_random)\n",
    "# Approximation of Dirac delta\n",
    "D_random_app=torch.linalg.lstsq(G_random,C_random,driver='gelsd')"
   ],
   "id": "2e3435bbcd18a6bd",
   "outputs": [],
   "execution_count": 15
  },
  {
   "metadata": {
    "ExecuteTime": {
     "end_time": "2025-03-20T16:40:00.205609Z",
     "start_time": "2025-03-20T16:40:00.132137Z"
    }
   },
   "cell_type": "code",
   "source": [
    "pos=10\n",
    "plt.plot(wavelengths.detach().numpy(),D_random_app[0][:,pos].detach().numpy(),label='Random guess')\n",
    "plt.plot(wavelengths.detach().numpy(),D_random[:,pos].detach().numpy(),label='Reference')\n",
    "plt.legend()\n",
    "plt.grid(True)\n",
    "plt.title('Random guess')\n",
    "plt.xlabel('Wavelength [m]')\n",
    "plt.ylabel('Intensity [a.u.]')\n",
    "plt.show()"
   ],
   "id": "551822b92e07dca5",
   "outputs": [
    {
     "data": {
      "text/plain": [
       "<Figure size 640x480 with 1 Axes>"
      ],
      "image/png": "[encoded data removed]"
     },
     "metadata": {},
     "output_type": "display_data"
    }
   ],
   "execution_count": 16
  },
  {
   "metadata": {
    "ExecuteTime": {
     "end_time": "2025-03-20T16:45:14.747080Z",
     "start_time": "2025-03-20T16:45:14.745056Z"
    }
   },
   "cell_type": "code",
   "source": [
    "Jacobian = []\n",
    "Hessian = []"
   ],
   "id": "ac3e04109f504862",
   "outputs": [],
   "execution_count": 17
  },
  {
   "metadata": {
    "ExecuteTime": {
     "end_time": "2025-03-20T16:45:15.073476Z",
     "start_time": "2025-03-20T16:45:15.071397Z"
    }
   },
   "cell_type": "code",
   "source": [
    "Residuals_over = []\n",
    "optimization_index = []"
   ],
   "id": "21d87348db11a05d",
   "outputs": [],
   "execution_count": 18
  },
  {
   "metadata": {
    "ExecuteTime": {
     "end_time": "2025-03-20T16:45:15.367205Z",
     "start_time": "2025-03-20T16:45:15.364926Z"
    }
   },
   "cell_type": "code",
   "source": [
    "Jaccobian_counter = 0\n",
    "Hessian_counter = 0\n",
    "Optimization_counter = 1"
   ],
   "id": "b9d3827398b8f203",
   "outputs": [],
   "execution_count": 19
  },
  {
   "metadata": {
    "ExecuteTime": {
     "end_time": "2025-03-20T16:46:28.255397Z",
     "start_time": "2025-03-20T16:45:15.763302Z"
    }
   },
   "cell_type": "code",
   "source": [
    "minimizer = Minimizer(residuals_expanded, params)\n",
    "result = minimizer.minimize(method='trust-exact',jac=get_jacobian,hess=get_hessian)"
   ],
   "id": "8126d1ec71463e4e",
   "outputs": [],
   "execution_count": 20
  },
  {
   "metadata": {
    "ExecuteTime": {
     "end_time": "2025-03-20T16:48:41.896299Z",
     "start_time": "2025-03-20T16:48:41.892352Z"
    }
   },
   "cell_type": "code",
   "source": "Jaccobian_counter",
   "id": "9e1433aa7e31c53e",
   "outputs": [
    {
     "data": {
      "text/plain": [
       "1"
      ]
     },
     "execution_count": 21,
     "metadata": {},
     "output_type": "execute_result"
    }
   ],
   "execution_count": 21
  },
  {
   "metadata": {
    "ExecuteTime": {
     "end_time": "2025-03-20T16:48:42.389621Z",
     "start_time": "2025-03-20T16:48:42.386936Z"
    }
   },
   "cell_type": "code",
   "source": "Hessian_counter",
   "id": "6fba7e074af6dd3f",
   "outputs": [
    {
     "data": {
      "text/plain": [
       "30"
      ]
     },
     "execution_count": 22,
     "metadata": {},
     "output_type": "execute_result"
    }
   ],
   "execution_count": 22
  },
  {
   "metadata": {
    "ExecuteTime": {
     "end_time": "2025-03-20T16:48:43.164502Z",
     "start_time": "2025-03-20T16:48:43.085559Z"
    }
   },
   "cell_type": "code",
   "source": [
    "plt.plot(optimization_index,Residuals_over)\n",
    "plt.title('Value of residuals using Trust-region method')\n",
    "plt.grid(True)\n",
    "plt.xlabel('Optimization iteration')\n",
    "plt.ylabel('Residuals value')"
   ],
   "id": "ef90382aa1cefb1a",
   "outputs": [
    {
     "data": {
      "text/plain": [
       "Text(0, 0.5, 'Residuals value')"
      ]
     },
     "execution_count": 23,
     "metadata": {},
     "output_type": "execute_result"
    },
    {
     "data": {
      "text/plain": [
       "<Figure size 640x480 with 1 Axes>"
      ],
      "image/png": "[encoded data removed]"
     },
     "metadata": {},
     "output_type": "display_data"
    }
   ],
   "execution_count": 23
  },
  {
   "metadata": {
    "ExecuteTime": {
     "end_time": "2025-03-20T16:49:17.144019Z",
     "start_time": "2025-03-20T16:49:17.141352Z"
    }
   },
   "cell_type": "code",
   "source": "result",
   "id": "9e8d0b7c8a6aed1d",
   "outputs": [
    {
     "data": {
      "text/plain": [
       "<lmfit.minimizer.MinimizerResult at 0x2a73123c0>"
      ],
      "text/html": [
       "<h2>Fit Result</h2> <table class=\"jp-toc-ignore\"><caption class=\"jp-toc-ignore\">Fit Statistics</caption><tr><td style='text-align:left'>fitting method</td><td style='text-align:right'>trust-exact</td></tr><tr><td style='text-align:left'># function evals</td><td style='text-align:right'>30</td></tr><tr><td style='text-align:left'># data points</td><td style='text-align:right'>1</td></tr><tr><td style='text-align:left'># variables</td><td style='text-align:right'>54</td></tr><tr><td style='text-align:left'>chi-square</td><td style='text-align:right'> 83.0044833</td></tr><tr><td style='text-align:left'>reduced chi-square</td><td style='text-align:right'> 83.0044833</td></tr><tr><td style='text-align:left'>Akaike info crit.</td><td style='text-align:right'> 112.418895</td></tr><tr><td style='text-align:left'>Bayesian info crit.</td><td style='text-align:right'> 4.41889462</td></tr></table><table class=\"jp-toc-ignore\"><caption>Parameters</caption><tr><th style='text-align:left'>name</th><th style='text-align:left'>value</th><th style='text-align:left'>initial value</th><th style='text-align:left'>min</th><th style='text-align:left'>max</th><th style='text-align:right'>vary</th></tr><tr><td style='text-align:left'>Ti_filter_1</td><td style='text-align:left'> 2.2093e-09</td><td style='text-align:left'>2.209278197011611e-09</td><td style='text-align:left'> 1.0000e-09</td><td style='text-align:left'> 1.0000e-08</td><td style='text-align:right'>True</td></tr><tr><td style='text-align:left'>Ti_filter_2</td><td style='text-align:left'> 8.6269e-09</td><td style='text-align:left'>8.626903632435094e-09</td><td style='text-align:left'> 1.0000e-09</td><td style='text-align:left'> 1.0000e-08</td><td style='text-align:right'>True</td></tr><tr><td style='text-align:left'>Ti_filter_3</td><td style='text-align:left'> 7.8740e-09</td><td style='text-align:left'>7.873971570789527e-09</td><td style='text-align:left'> 1.0000e-09</td><td style='text-align:left'> 1.0000e-08</td><td style='text-align:right'>True</td></tr><tr><td style='text-align:left'>Ti_filter_4</td><td style='text-align:left'> 3.2956e-09</td><td style='text-align:left'>3.2956212316547952e-09</td><td style='text-align:left'> 1.0000e-09</td><td style='text-align:left'> 1.0000e-08</td><td style='text-align:right'>True</td></tr><tr><td style='text-align:left'>Ti_filter_5</td><td style='text-align:left'> 5.4589e-09</td><td style='text-align:left'>5.458915783827468e-09</td><td style='text-align:left'> 1.0000e-09</td><td style='text-align:left'> 1.0000e-08</td><td style='text-align:right'>True</td></tr><tr><td style='text-align:left'>Ti_filter_6</td><td style='text-align:left'> 5.0454e-09</td><td style='text-align:left'>5.0454195830986425e-09</td><td style='text-align:left'> 1.0000e-09</td><td style='text-align:left'> 1.0000e-08</td><td style='text-align:right'>True</td></tr><tr><td style='text-align:left'>Ti_filter_7</td><td style='text-align:left'> 6.8643e-09</td><td style='text-align:left'>6.864336754504866e-09</td><td style='text-align:left'> 1.0000e-09</td><td style='text-align:left'> 1.0000e-08</td><td style='text-align:right'>True</td></tr><tr><td style='text-align:left'>Ti_filter_8</td><td style='text-align:left'> 8.0985e-09</td><td style='text-align:left'>8.098510160219618e-09</td><td style='text-align:left'> 1.0000e-09</td><td style='text-align:left'> 1.0000e-08</td><td style='text-align:right'>True</td></tr><tr><td style='text-align:left'>Ti_filter_9</td><td style='text-align:left'> 1.8447e-09</td><td style='text-align:left'>1.844736280968114e-09</td><td style='text-align:left'> 1.0000e-09</td><td style='text-align:left'> 1.0000e-08</td><td style='text-align:right'>True</td></tr><tr><td style='text-align:left'>Ti_filter_10</td><td style='text-align:left'> 1.2551e-09</td><td style='text-align:left'>1.2551272886980567e-09</td><td style='text-align:left'> 1.0000e-09</td><td style='text-align:left'> 1.0000e-08</td><td style='text-align:right'>True</td></tr><tr><td style='text-align:left'>Ti_filter_11</td><td style='text-align:left'> 8.5219e-09</td><td style='text-align:left'>8.521885935278828e-09</td><td style='text-align:left'> 1.0000e-09</td><td style='text-align:left'> 1.0000e-08</td><td style='text-align:right'>True</td></tr><tr><td style='text-align:left'>Ti_filter_12</td><td style='text-align:left'> 4.8949e-09</td><td style='text-align:left'>4.8949036111454796e-09</td><td style='text-align:left'> 1.0000e-09</td><td style='text-align:left'> 1.0000e-08</td><td style='text-align:right'>True</td></tr><tr><td style='text-align:left'>Ti_filter_13</td><td style='text-align:left'> 7.8605e-09</td><td style='text-align:left'>7.860520742121477e-09</td><td style='text-align:left'> 1.0000e-09</td><td style='text-align:left'> 1.0000e-08</td><td style='text-align:right'>True</td></tr><tr><td style='text-align:left'>Ti_filter_14</td><td style='text-align:left'> 1.0190e-09</td><td style='text-align:left'>1.0189544801599964e-09</td><td style='text-align:left'> 1.0000e-09</td><td style='text-align:left'> 1.0000e-08</td><td style='text-align:right'>True</td></tr><tr><td style='text-align:left'>Ti_filter_15</td><td style='text-align:left'> 5.0085e-09</td><td style='text-align:left'>5.008484746493212e-09</td><td style='text-align:left'> 1.0000e-09</td><td style='text-align:left'> 1.0000e-08</td><td style='text-align:right'>True</td></tr><tr><td style='text-align:left'>Ti_filter_16</td><td style='text-align:left'> 7.4939e-09</td><td style='text-align:left'>7.493860291067043e-09</td><td style='text-align:left'> 1.0000e-09</td><td style='text-align:left'> 1.0000e-08</td><td style='text-align:right'>True</td></tr><tr><td style='text-align:left'>Ti_filter_17</td><td style='text-align:left'> 3.0589e-09</td><td style='text-align:left'>3.0588599914340736e-09</td><td style='text-align:left'> 1.0000e-09</td><td style='text-align:left'> 1.0000e-08</td><td style='text-align:right'>True</td></tr><tr><td style='text-align:left'>Ti_filter_18</td><td style='text-align:left'> 9.5074e-09</td><td style='text-align:left'>9.5074362599853e-09</td><td style='text-align:left'> 1.0000e-09</td><td style='text-align:left'> 1.0000e-08</td><td style='text-align:right'>True</td></tr><tr><td style='text-align:left'>Au_filter_1</td><td style='text-align:left'> 9.1128e-09</td><td style='text-align:left'>9.112847118503353e-09</td><td style='text-align:left'> 1.0000e-09</td><td style='text-align:left'> 1.0000e-08</td><td style='text-align:right'>True</td></tr><tr><td style='text-align:left'>Au_filter_2</td><td style='text-align:left'> 1.2753e-09</td><td style='text-align:left'>1.2753098473019819e-09</td><td style='text-align:left'> 1.0000e-09</td><td style='text-align:left'> 1.0000e-08</td><td style='text-align:right'>True</td></tr><tr><td style='text-align:left'>Au_filter_3</td><td style='text-align:left'> 1.2290e-09</td><td style='text-align:left'>1.2290127489411473e-09</td><td style='text-align:left'> 1.0000e-09</td><td style='text-align:left'> 1.0000e-08</td><td style='text-align:right'>True</td></tr><tr><td style='text-align:left'>Au_filter_4</td><td style='text-align:left'> 5.8727e-09</td><td style='text-align:left'>5.8727122551414685e-09</td><td style='text-align:left'> 1.0000e-09</td><td style='text-align:left'> 1.0000e-08</td><td style='text-align:right'>True</td></tr><tr><td style='text-align:left'>Au_filter_5</td><td style='text-align:left'> 9.4523e-09</td><td style='text-align:left'>9.452342465006595e-09</td><td style='text-align:left'> 1.0000e-09</td><td style='text-align:left'> 1.0000e-08</td><td style='text-align:right'>True</td></tr><tr><td style='text-align:left'>Au_filter_6</td><td style='text-align:left'> 4.4308e-09</td><td style='text-align:left'>4.430838139193912e-09</td><td style='text-align:left'> 1.0000e-09</td><td style='text-align:left'> 1.0000e-08</td><td style='text-align:right'>True</td></tr><tr><td style='text-align:left'>Au_filter_7</td><td style='text-align:left'> 2.9494e-09</td><td style='text-align:left'>2.9493945741755202e-09</td><td style='text-align:left'> 1.0000e-09</td><td style='text-align:left'> 1.0000e-08</td><td style='text-align:right'>True</td></tr><tr><td style='text-align:left'>Au_filter_8</td><td style='text-align:left'> 4.7990e-09</td><td style='text-align:left'>4.799049180244456e-09</td><td style='text-align:left'> 1.0000e-09</td><td style='text-align:left'> 1.0000e-08</td><td style='text-align:right'>True</td></tr><tr><td style='text-align:left'>Au_filter_9</td><td style='text-align:left'> 1.2614e-09</td><td style='text-align:left'>1.2613670881738115e-09</td><td style='text-align:left'> 1.0000e-09</td><td style='text-align:left'> 1.0000e-08</td><td style='text-align:right'>True</td></tr><tr><td style='text-align:left'>Au_filter_10</td><td style='text-align:left'> 2.9952e-09</td><td style='text-align:left'>2.9952249964573156e-09</td><td style='text-align:left'> 1.0000e-09</td><td style='text-align:left'> 1.0000e-08</td><td style='text-align:right'>True</td></tr><tr><td style='text-align:left'>Au_filter_11</td><td style='text-align:left'> 4.9410e-09</td><td style='text-align:left'>4.940988342855148e-09</td><td style='text-align:left'> 1.0000e-09</td><td style='text-align:left'> 1.0000e-08</td><td style='text-align:right'>True</td></tr><tr><td style='text-align:left'>Au_filter_12</td><td style='text-align:left'> 5.4623e-09</td><td style='text-align:left'>5.462310172436655e-09</td><td style='text-align:left'> 1.0000e-09</td><td style='text-align:left'> 1.0000e-08</td><td style='text-align:right'>True</td></tr><tr><td style='text-align:left'>Au_filter_13</td><td style='text-align:left'> 3.0978e-09</td><td style='text-align:left'>3.0977600523181533e-09</td><td style='text-align:left'> 1.0000e-09</td><td style='text-align:left'> 1.0000e-08</td><td style='text-align:right'>True</td></tr><tr><td style='text-align:left'>Au_filter_14</td><td style='text-align:left'> 3.0778e-09</td><td style='text-align:left'>3.077798873868859e-09</td><td style='text-align:left'> 1.0000e-09</td><td style='text-align:left'> 1.0000e-08</td><td style='text-align:right'>True</td></tr><tr><td style='text-align:left'>Au_filter_15</td><td style='text-align:left'> 2.9690e-09</td><td style='text-align:left'>2.9690293360391974e-09</td><td style='text-align:left'> 1.0000e-09</td><td style='text-align:left'> 1.0000e-08</td><td style='text-align:right'>True</td></tr><tr><td style='text-align:left'>Au_filter_16</td><td style='text-align:left'> 5.1364e-09</td><td style='text-align:left'>5.136431191639602e-09</td><td style='text-align:left'> 1.0000e-09</td><td style='text-align:left'> 1.0000e-08</td><td style='text-align:right'>True</td></tr><tr><td style='text-align:left'>Au_filter_17</td><td style='text-align:left'> 3.6080e-09</td><td style='text-align:left'>3.60803453131437e-09</td><td style='text-align:left'> 1.0000e-09</td><td style='text-align:left'> 1.0000e-08</td><td style='text-align:right'>True</td></tr><tr><td style='text-align:left'>Au_filter_18</td><td style='text-align:left'> 1.1934e-09</td><td style='text-align:left'>1.19340734739318e-09</td><td style='text-align:left'> 1.0000e-09</td><td style='text-align:left'> 1.0000e-08</td><td style='text-align:right'>True</td></tr><tr><td style='text-align:left'>aSi_filter_1</td><td style='text-align:left'> 5.1879e-06</td><td style='text-align:left'>5.187889878312864e-06</td><td style='text-align:left'> 1.0000e-06</td><td style='text-align:left'> 6.0000e-06</td><td style='text-align:right'>True</td></tr><tr><td style='text-align:left'>aSi_filter_2</td><td style='text-align:left'> 3.7823e-06</td><td style='text-align:left'>3.7822716132621673e-06</td><td style='text-align:left'> 1.0000e-06</td><td style='text-align:left'> 6.0000e-06</td><td style='text-align:right'>True</td></tr><tr><td style='text-align:left'>aSi_filter_3</td><td style='text-align:left'> 4.2115e-06</td><td style='text-align:left'>4.211471814662228e-06</td><td style='text-align:left'> 1.0000e-06</td><td style='text-align:left'> 6.0000e-06</td><td style='text-align:right'>True</td></tr><tr><td style='text-align:left'>aSi_filter_4</td><td style='text-align:left'> 1.9295e-06</td><td style='text-align:left'>1.9295313294735883e-06</td><td style='text-align:left'> 1.0000e-06</td><td style='text-align:left'> 6.0000e-06</td><td style='text-align:right'>True</td></tr><tr><td style='text-align:left'>aSi_filter_5</td><td style='text-align:left'> 5.9627e-06</td><td style='text-align:left'>5.962717060880326e-06</td><td style='text-align:left'> 1.0000e-06</td><td style='text-align:left'> 6.0000e-06</td><td style='text-align:right'>True</td></tr><tr><td style='text-align:left'>aSi_filter_6</td><td style='text-align:left'> 5.2997e-06</td><td style='text-align:left'>5.29973264397645e-06</td><td style='text-align:left'> 1.0000e-06</td><td style='text-align:left'> 6.0000e-06</td><td style='text-align:right'>True</td></tr><tr><td style='text-align:left'>aSi_filter_7</td><td style='text-align:left'> 1.6044e-06</td><td style='text-align:left'>1.6044497990290322e-06</td><td style='text-align:left'> 1.0000e-06</td><td style='text-align:left'> 6.0000e-06</td><td style='text-align:right'>True</td></tr><tr><td style='text-align:left'>aSi_filter_8</td><td style='text-align:left'> 2.6635e-06</td><td style='text-align:left'>2.6634759268006453e-06</td><td style='text-align:left'> 1.0000e-06</td><td style='text-align:left'> 6.0000e-06</td><td style='text-align:right'>True</td></tr><tr><td style='text-align:left'>aSi_filter_9</td><td style='text-align:left'> 4.6074e-06</td><td style='text-align:left'>4.607422037916342e-06</td><td style='text-align:left'> 1.0000e-06</td><td style='text-align:left'> 6.0000e-06</td><td style='text-align:right'>True</td></tr><tr><td style='text-align:left'>aSi_filter_10</td><td style='text-align:left'> 4.5560e-06</td><td style='text-align:left'>4.555958848476398e-06</td><td style='text-align:left'> 1.0000e-06</td><td style='text-align:left'> 6.0000e-06</td><td style='text-align:right'>True</td></tr><tr><td style='text-align:left'>aSi_filter_11</td><td style='text-align:left'> 5.6822e-06</td><td style='text-align:left'>5.682202933997298e-06</td><td style='text-align:left'> 1.0000e-06</td><td style='text-align:left'> 6.0000e-06</td><td style='text-align:right'>True</td></tr><tr><td style='text-align:left'>aSi_filter_12</td><td style='text-align:left'> 3.1105e-06</td><td style='text-align:left'>3.1105349998070764e-06</td><td style='text-align:left'> 1.0000e-06</td><td style='text-align:left'> 6.0000e-06</td><td style='text-align:right'>True</td></tr><tr><td style='text-align:left'>aSi_filter_13</td><td style='text-align:left'> 5.1502e-06</td><td style='text-align:left'>5.1501784663716356e-06</td><td style='text-align:left'> 1.0000e-06</td><td style='text-align:left'> 6.0000e-06</td><td style='text-align:right'>True</td></tr><tr><td style='text-align:left'>aSi_filter_14</td><td style='text-align:left'> 4.3515e-06</td><td style='text-align:left'>4.351527832070355e-06</td><td style='text-align:left'> 1.0000e-06</td><td style='text-align:left'> 6.0000e-06</td><td style='text-align:right'>True</td></tr><tr><td style='text-align:left'>aSi_filter_15</td><td style='text-align:left'> 2.5168e-06</td><td style='text-align:left'>2.516842554664588e-06</td><td style='text-align:left'> 1.0000e-06</td><td style='text-align:left'> 6.0000e-06</td><td style='text-align:right'>True</td></tr><tr><td style='text-align:left'>aSi_filter_16</td><td style='text-align:left'> 3.9379e-06</td><td style='text-align:left'>3.937903030717797e-06</td><td style='text-align:left'> 1.0000e-06</td><td style='text-align:left'> 6.0000e-06</td><td style='text-align:right'>True</td></tr><tr><td style='text-align:left'>aSi_filter_17</td><td style='text-align:left'> 5.4124e-06</td><td style='text-align:left'>5.412395004159289e-06</td><td style='text-align:left'> 1.0000e-06</td><td style='text-align:left'> 6.0000e-06</td><td style='text-align:right'>True</td></tr><tr><td style='text-align:left'>aSi_filter_18</td><td style='text-align:left'> 5.2310e-06</td><td style='text-align:left'>5.2309870921415635e-06</td><td style='text-align:left'> 1.0000e-06</td><td style='text-align:left'> 6.0000e-06</td><td style='text-align:right'>True</td></tr></table>"
      ]
     },
     "execution_count": 24,
     "metadata": {},
     "output_type": "execute_result"
    }
   ],
   "execution_count": 24
  },
  {
   "metadata": {
    "ExecuteTime": {
     "end_time": "2025-03-20T16:49:20.053548Z",
     "start_time": "2025-03-20T16:49:20.051541Z"
    }
   },
   "cell_type": "code",
   "source": "torch_optimal_all=lmfit_to_torch_values(result.params)",
   "id": "ddf3a23328ced2c8",
   "outputs": [],
   "execution_count": 25
  },
  {
   "metadata": {
    "ExecuteTime": {
     "end_time": "2025-03-20T16:49:20.350479Z",
     "start_time": "2025-03-20T16:49:20.348483Z"
    }
   },
   "cell_type": "code",
   "source": "# torch.save(torch_optimal_all,'optimal_all_tr.pt')",
   "id": "565621177e7fdf28",
   "outputs": [],
   "execution_count": 26
  },
  {
   "metadata": {
    "ExecuteTime": {
     "end_time": "2025-03-20T16:49:20.882679Z",
     "start_time": "2025-03-20T16:49:20.825918Z"
    }
   },
   "cell_type": "code",
   "source": [
    "G_optimal=filter_wheel_expanded(torch_optimal_all)\n",
    "D_ref=Dirac()\n",
    "C_optimal=torch.matmul(G_optimal,D_ref)\n",
    "D_optimal=torch.linalg.lstsq(G_optimal,C_optimal,driver='gelsd')"
   ],
   "id": "cd37177546081ef7",
   "outputs": [],
   "execution_count": 27
  },
  {
   "metadata": {
    "ExecuteTime": {
     "end_time": "2025-03-20T16:49:21.327792Z",
     "start_time": "2025-03-20T16:49:21.268189Z"
    }
   },
   "cell_type": "code",
   "source": [
    "pos=10\n",
    "plt.plot(wavelengths.detach().numpy(),D_optimal[0][:,pos].detach().numpy(),label='Least Squares')\n",
    "plt.plot(wavelengths.detach().numpy(),D_ref[:,pos].detach().numpy(),label='Reference')\n",
    "plt.legend()\n",
    "plt.grid(True)\n",
    "plt.title('Effect of optimization using least-squares method')\n",
    "plt.xlabel('Wavelength [m]')\n",
    "plt.ylabel('Intensity [a.u.]')\n",
    "plt.show()"
   ],
   "id": "87b78cc894e471bd",
   "outputs": [
    {
     "data": {
      "text/plain": [
       "<Figure size 640x480 with 1 Axes>"
      ],
      "image/png": "[encoded data removed]"
     },
     "metadata": {},
     "output_type": "display_data"
    }
   ],
   "execution_count": 28
  },
  {
   "metadata": {},
   "cell_type": "code",
   "outputs": [],
   "execution_count": null,
   "source": "",
   "id": "a5ff0880c4642857"
  }
 ],
 "metadata": {
  "kernelspec": {
   "display_name": "Python 3",
   "language": "python",
   "name": "python3"
  },
  "language_info": {
   "codemirror_mode": {
    "name": "ipython",
    "version": 2
   },
   "file_extension": ".py",
   "mimetype": "text/x-python",
   "name": "python",
   "nbconvert_exporter": "python",
   "pygments_lexer": "ipython2",
   "version": "2.7.6"
  }
 },
 "nbformat": 4,
 "nbformat_minor": 5
}
