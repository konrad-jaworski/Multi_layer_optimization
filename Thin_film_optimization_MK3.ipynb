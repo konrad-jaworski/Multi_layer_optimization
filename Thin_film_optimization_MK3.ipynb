{
 "cells": [
  {
   "cell_type": "code",
   "id": "initial_id",
   "metadata": {
    "collapsed": true,
    "ExecuteTime": {
     "end_time": "2025-03-15T11:02:11.754424Z",
     "start_time": "2025-03-15T11:02:10.413060Z"
    }
   },
   "source": [
    "from torch_tmm import Model, BaseLayer, BaseMaterial\n",
    "from torch_tmm.dispersion import Constant_epsilon, Lorentz, TaucLorentz\n",
    "import torch\n",
    "from lmfit import Parameters,Minimizer\n",
    "import random"
   ],
   "outputs": [],
   "execution_count": 1
  },
  {
   "metadata": {
    "ExecuteTime": {
     "end_time": "2025-03-15T11:02:11.759711Z",
     "start_time": "2025-03-15T11:02:11.757866Z"
    }
   },
   "cell_type": "code",
   "source": "random.seed(42)",
   "id": "a82fafa64dca6a7",
   "outputs": [],
   "execution_count": 2
  },
  {
   "metadata": {
    "ExecuteTime": {
     "end_time": "2025-03-15T11:02:11.793700Z",
     "start_time": "2025-03-15T11:02:11.792302Z"
    }
   },
   "cell_type": "code",
   "source": [
    "dtype=torch.complex128\n",
    "device=torch.device('cpu')"
   ],
   "id": "8059965a7de7ce34",
   "outputs": [],
   "execution_count": 3
  },
  {
   "metadata": {
    "ExecuteTime": {
     "end_time": "2025-03-15T11:02:11.799631Z",
     "start_time": "2025-03-15T11:02:11.798193Z"
    }
   },
   "cell_type": "code",
   "source": [
    "n=10 #number of filter slots on each wheel\n",
    "N=n**2-1 #Total number if combinations of filters"
   ],
   "id": "a1db488e696a517b",
   "outputs": [],
   "execution_count": 4
  },
  {
   "metadata": {
    "ExecuteTime": {
     "end_time": "2025-03-15T11:02:11.805023Z",
     "start_time": "2025-03-15T11:02:11.803473Z"
    }
   },
   "cell_type": "code",
   "source": [
    "wavelengths = torch.linspace(8000, 14000, 99) # in [nm]\n",
    "angles = torch.linspace(0, 89, 90)"
   ],
   "id": "809ab6f1257cb78a",
   "outputs": [],
   "execution_count": 5
  },
  {
   "metadata": {},
   "cell_type": "markdown",
   "source": "<h2> Set up of dispersion functions and materials",
   "id": "a377a49eed760aa6"
  },
  {
   "metadata": {
    "ExecuteTime": {
     "end_time": "2025-03-15T11:02:11.811421Z",
     "start_time": "2025-03-15T11:02:11.809821Z"
    }
   },
   "cell_type": "code",
   "source": [
    "#Defining dispersion models\n",
    "env_disp = [Constant_epsilon(1+0j, dtype, device)]\n",
    "Metalic_1 = [Constant_epsilon(3+0.2j, dtype=dtype, device=device)]\n",
    "Metalic_2=[Lorentz(A=0.0015,E0=1/12.5,C=0.014,dtype=dtype,device=device)]\n",
    "Amorphous=[Lorentz(A=81,E0=1/12.5,C=0.014,dtype=dtype,device=device)]\n",
    "subs_disp = [Constant_epsilon(5+0j, dtype, device)]"
   ],
   "id": "d2ff9642e5b0db5b",
   "outputs": [],
   "execution_count": 6
  },
  {
   "metadata": {
    "ExecuteTime": {
     "end_time": "2025-03-15T11:02:11.817531Z",
     "start_time": "2025-03-15T11:02:11.815965Z"
    }
   },
   "cell_type": "code",
   "source": [
    "# Defining materials\n",
    "env_mat = BaseMaterial(env_disp,name = 'air',dtype= dtype,device= device)\n",
    "Metalic_1_mat = BaseMaterial(Metalic_1,dtype= dtype,device= device)\n",
    "Metalic_2_mat = BaseMaterial(Metalic_2,dtype= dtype,device= device)\n",
    "Amorphous_mat = BaseMaterial(Amorphous,dtype= dtype,device= device)\n",
    "subs_mat = BaseMaterial(subs_disp,name = 'glass',dtype= dtype, device=device)"
   ],
   "id": "12cedc2df5f45968",
   "outputs": [],
   "execution_count": 7
  },
  {
   "metadata": {
    "ExecuteTime": {
     "end_time": "2025-03-15T11:02:11.823562Z",
     "start_time": "2025-03-15T11:02:11.822127Z"
    }
   },
   "cell_type": "code",
   "source": [
    "# Defining layers\n",
    "env = BaseLayer(env_mat, thickness=0, LayerType='env')\n",
    "subs = BaseLayer(subs_mat, thickness=0, LayerType='subs')"
   ],
   "id": "7d15741614e113ee",
   "outputs": [],
   "execution_count": 8
  },
  {
   "metadata": {},
   "cell_type": "markdown",
   "source": "<h2> Functions used to construct objective function",
   "id": "4e68cae3bb3fc3f7"
  },
  {
   "metadata": {
    "ExecuteTime": {
     "end_time": "2025-03-15T11:02:11.838680Z",
     "start_time": "2025-03-15T11:02:11.836228Z"
    }
   },
   "cell_type": "code",
   "source": [
    "def generate_single_filter(aSi_thickness, Au_thickness,Ti_thickness):\n",
    "\n",
    "    \"\"\"Generate individual filter response.\n",
    "\n",
    "    Parameters:\n",
    "    ----------\n",
    "    aSi_thickness : Pytorch tensor\n",
    "        Thickness of amorphous silicon\n",
    "\n",
    "    Au_thickness : Pytorch tensor\n",
    "        Thickness of gold\n",
    "\n",
    "    Ti_thickness : Pytorch tensor\n",
    "        Thickness of titanium\n",
    "\n",
    "    Returns:\n",
    "    --------\n",
    "    Pytorch tensor : Transmission of one filter response\n",
    "\n",
    "    \"\"\"\n",
    "\n",
    "    Ti = BaseLayer(Metalic_1_mat, thickness=Ti_thickness, LayerType='coh')\n",
    "    Au = BaseLayer(Metalic_2_mat, thickness=Au_thickness, LayerType='coh')\n",
    "    aSi = BaseLayer(Amorphous_mat, thickness=aSi_thickness, LayerType='coh')\n",
    "\n",
    "    # Model of the thin film geometry\n",
    "    model = Model(env, [aSi,Au,Ti], subs, dtype, device)\n",
    "    results= model.evaluate(wavelengths, angles)\n",
    "\n",
    "    # Model of the substrate\n",
    "    model_Si=Model(env,[],subs,dtype,device)\n",
    "    results_Si=model_Si.evaluate(wavelengths,angles)\n",
    "\n",
    "    # Transmissions and reflections of the substrate\n",
    "    Reflection_Si=(results_Si.reflection('s')+results_Si.reflection('p'))/2\n",
    "    Reflection_Si=Reflection_Si[:,-1]\n",
    "    Transmission_Si=(results_Si.transmission('s')+results_Si.transmission('p'))/2\n",
    "    Transmission_Si=Transmission_Si[:,-1]\n",
    "\n",
    "    # Transmission and reflection of the filter\n",
    "    Reflection=(results.reflection('s')+results.reflection('p'))/2\n",
    "    Reflection=Reflection[:,-1]\n",
    "    Transmission=(results.transmission('s')+results.transmission('p'))/2 # To verification\n",
    "    Transmission=Transmission[:,-1] # Only taking 90 degrees angle for analysis\n",
    "\n",
    "    return (Transmission*Transmission_Si)/(1-Reflection*Reflection_Si) # Correction based on the Substrate behaviour"
   ],
   "id": "7d82677ff7edaabc",
   "outputs": [],
   "execution_count": 9
  },
  {
   "metadata": {
    "ExecuteTime": {
     "end_time": "2025-03-15T11:02:12.008542Z",
     "start_time": "2025-03-15T11:02:12.005719Z"
    }
   },
   "cell_type": "code",
   "source": [
    "def filter_wheel(params,n):\n",
    "\n",
    "    \"\"\" Generate geometry matrix of filters responses. First nine entries represents individual responses on one wheel and next nine entries represents second wheel. Rest of the entries are combinations of them.\n",
    "\n",
    "    Parameters:\n",
    "    ----------\n",
    "    params : Pythorch tensor\n",
    "        Consist of thickness values for each layer obtained from params2tensor() function\n",
    "\n",
    "    n : number of filter wheel slots\n",
    "\n",
    "    Returns:\n",
    "    -------\n",
    "    G_m : Pytorch tensor\n",
    "        Corresponds to Pytorch tensor which holds all possible combinations of filter responses in format of  N x w\n",
    "\n",
    "     \"\"\"\n",
    "\n",
    "\n",
    "    num_filters = n - 1  # Number of individual filters\n",
    "    total_transmissions = num_filters * 2  # First and second sets of transmissions\n",
    "    G_m_list=[]\n",
    "    transmission_list=[]\n",
    "\n",
    "    # First set of filters\n",
    "    for i in range(num_filters):\n",
    "        filter_response=generate_single_filter(params[36+i],params[18+i],params[i])\n",
    "        transmission_list.append(filter_response)\n",
    "        G_m_list.append(filter_response)\n",
    "\n",
    "    # Second set of filters\n",
    "    for i in range(num_filters):\n",
    "        filter_response=generate_single_filter(params[36+num_filters+i],params[18+num_filters+i],params[num_filters+i])\n",
    "        transmission_list.append(filter_response)\n",
    "        G_m_list.append(filter_response)\n",
    "\n",
    "    transmissions = torch.stack(transmission_list)\n",
    "    running_index=len(G_m_list)\n",
    "\n",
    "    for i in range(num_filters):  # First 9 transmissions\n",
    "        for j in range(num_filters, total_transmissions):  # Next 9 transmissions\n",
    "            if running_index < n ** 2 - 1:\n",
    "                # Create new combinations without in-place modification of G_m\n",
    "                combination = transmissions[i] * transmissions[j]\n",
    "                G_m_list.append(combination)\n",
    "                running_index += 1\n",
    "\n",
    "    G_m=torch.stack(G_m_list)\n",
    "\n",
    "    return G_m"
   ],
   "id": "cea3d0bd06b432c1",
   "outputs": [],
   "execution_count": 10
  },
  {
   "metadata": {
    "ExecuteTime": {
     "end_time": "2025-03-15T11:02:12.163997Z",
     "start_time": "2025-03-15T11:02:12.161824Z"
    }
   },
   "cell_type": "code",
   "source": [
    "def Dirac(n):\n",
    "\n",
    "    \"\"\" Creates Dirac delta matrix.\n",
    "\n",
    "    Parameters:\n",
    "    ----------\n",
    "        n : number of filter wheel slots\n",
    "\n",
    "    Returns :\n",
    "    ---------\n",
    "    Pytorch tensor\n",
    "        Matrix contains w x M matrix with Dirac delta functions at different positions\n",
    "    \"\"\"\n",
    "\n",
    "    w = len(wavelengths)  # Number of wavelength points (rows)\n",
    "    M = n**2 - 1  # Number of Dirac delta positions (columns)\n",
    "\n",
    "    row_indices = torch.arange(w)\n",
    "    col_indices = torch.arange(M)\n",
    "\n",
    "    # Create zeros matrix (leaf tensor with requires_grad=True)\n",
    "    D_m = torch.zeros(w, M, dtype=torch.float64, requires_grad=True)  # Initially all zeros\n",
    "\n",
    "    # Use of functional assignment without in-place modification to keep computational graph intact\n",
    "    D_m = D_m + torch.sparse_coo_tensor(\n",
    "    indices=torch.stack([row_indices, col_indices]),\n",
    "    values=torch.ones(row_indices.size(0), dtype=torch.float64),\n",
    "    size=(w, M)\n",
    "    ).to_dense()\n",
    "\n",
    "    return D_m"
   ],
   "id": "3e7d5b72f37c09bf",
   "outputs": [],
   "execution_count": 11
  },
  {
   "metadata": {
    "ExecuteTime": {
     "end_time": "2025-03-15T11:02:12.315012Z",
     "start_time": "2025-03-15T11:02:12.313067Z"
    }
   },
   "cell_type": "code",
   "source": [
    "def params2tensor(params):\n",
    "    \"\"\"Convert lmfit.Parameters to PyTorch tensor.\n",
    "\n",
    "    Parameters:\n",
    "    ----------\n",
    "    params : lmfit.Parameters\n",
    "        Parameter object containing the thickness values for each layer\n",
    "\n",
    "    Returns:\n",
    "    ---------\n",
    "    Pytorch tensor\n",
    "        All thickness values are converted to the Pytorch tensor and stacked into one matrix with gradient enabled.\n",
    "\n",
    "    \"\"\"\n",
    "\n",
    "    tensor_params = []\n",
    "    for i in range((n - 1) * 6):\n",
    "        # Extracting values to Pythorch tensor\n",
    "        value = params[f't_{i}'].value\n",
    "        thickness = torch.tensor(value, dtype=torch.float64)\n",
    "        tensor_params.append(thickness)\n",
    "\n",
    "    # Stack them into a tensor\n",
    "    param_tensor = torch.stack(tensor_params, dim=0)\n",
    "    param_tensor.requires_grad_()  # Set requires_grad at the tensor level\n",
    "    return param_tensor"
   ],
   "id": "822beb366f3446e3",
   "outputs": [],
   "execution_count": 12
  },
  {
   "metadata": {},
   "cell_type": "markdown",
   "source": "<h2>Setting parameters for optimization",
   "id": "366e1e58390ac483"
  },
  {
   "metadata": {
    "ExecuteTime": {
     "end_time": "2025-03-15T11:02:12.916029Z",
     "start_time": "2025-03-15T11:02:12.913769Z"
    }
   },
   "cell_type": "code",
   "source": "params=Parameters()",
   "id": "8293c765e9389143",
   "outputs": [],
   "execution_count": 13
  },
  {
   "metadata": {
    "ExecuteTime": {
     "end_time": "2025-03-15T11:02:13.093041Z",
     "start_time": "2025-03-15T11:02:13.089399Z"
    }
   },
   "cell_type": "code",
   "source": [
    "running_index=0\n",
    "# Thickness of titanium layer\n",
    "for i in range((n-1)*2):\n",
    "    params.add(f't_{running_index}',value=random.uniform(3,10),min=3,max=10)\n",
    "    running_index+=1\n",
    "\n",
    "# Thickness of gold layer\n",
    "for i in range((n-1)*2):\n",
    "    params.add(f't_{running_index}',value=random.uniform(3,10),min=3,max=10)\n",
    "    running_index+=1\n",
    "\n",
    "# Thickness of amorphous silicon layer\n",
    "for i in range((n-1)*2):\n",
    "    params.add(f't_{running_index}',value=random.uniform(1000,6000),min=1000,max=6000)\n",
    "    running_index+=1"
   ],
   "id": "e2aa37599ab7e761",
   "outputs": [],
   "execution_count": 14
  },
  {
   "metadata": {},
   "cell_type": "markdown",
   "source": "<h2> Objective function",
   "id": "5602a417f762e0a8"
  },
  {
   "metadata": {
    "ExecuteTime": {
     "end_time": "2025-03-15T11:02:13.458222Z",
     "start_time": "2025-03-15T11:02:13.455931Z"
    }
   },
   "cell_type": "code",
   "source": [
    "def Objective(params):\n",
    "\n",
    "    \"\"\"Computes objective function residual.\n",
    "\n",
    "    Objective function accepts Pytorch tensor and returns a scalar value also as a Pytorch tensor. This method allows for autograd functionality.\n",
    "\n",
    "    1. Generate geometry matrix\n",
    "    2. Generate Dirac delta matrix\n",
    "    3. Calculate coefficient matrix\n",
    "    4. Approximation of Dirac delta matrix from Coefficient matrix and Geometry matrix\n",
    "    5. Frobenius norm of residual of Dirac matrices\n",
    "\n",
    "    Parameters:\n",
    "    ----------\n",
    "        params : Pytorch tensor obtained from params2tensor() function\n",
    "\n",
    "    Returns:\n",
    "    ---------\n",
    "        Pytorch tensor\n",
    "            Scalar value representing Frobenius norm\n",
    "\n",
    "    \"\"\"\n",
    "\n",
    "    # 1. From params -> Geometry matrix\n",
    "    G_m=filter_wheel(params,n) # Already transposed inside of method\n",
    "\n",
    "    # 2. Construction of Dirac delta matrix\n",
    "    D_m=Dirac(n)\n",
    "\n",
    "    # 3. Coefficient matrix formulation\n",
    "    C_m=torch.matmul(G_m,D_m)\n",
    "\n",
    "    # 4. Approximating the Dirac delta matrix\n",
    "    D_app=torch.linalg.lstsq(G_m,C_m,driver='gelsd')\n",
    "\n",
    "    # 5. Calculating norm of residual of Dirac matrices\n",
    "    r=torch.norm(D_app[0]-D_m,p='fro')\n",
    "\n",
    "    return r"
   ],
   "id": "3b1bf57060ce6436",
   "outputs": [],
   "execution_count": 15
  },
  {
   "metadata": {
    "ExecuteTime": {
     "end_time": "2025-03-15T11:02:13.801194Z",
     "start_time": "2025-03-15T11:02:13.798865Z"
    }
   },
   "cell_type": "code",
   "source": [
    "def get_jacobian(params):\n",
    "    \"\"\" Jacobian functional which get as an input params object of lmfit but does not use it to calculate it. It rather takes its value calculated inside of residual() function.\"\"\"\n",
    "\n",
    "    global Jacobian, Jaccobian_counter\n",
    "    Jaccobian_counter+=1\n",
    "    return Jacobian"
   ],
   "id": "bcaaf70738ad567a",
   "outputs": [],
   "execution_count": 16
  },
  {
   "metadata": {
    "ExecuteTime": {
     "end_time": "2025-03-15T11:02:14.158075Z",
     "start_time": "2025-03-15T11:02:14.156126Z"
    }
   },
   "cell_type": "code",
   "source": [
    "def get_hessian(params):\n",
    "    \"\"\" Hessian functional which get as an input params object which is for now I don't know but does not use it anyway  to calculate Hessian. It rather takes its value calculated inside of residual() function.\"\"\"\n",
    "    global Hessian, Hessian_counter\n",
    "    Hessian_counter+=1\n",
    "    return Hessian"
   ],
   "id": "36dcc45ecdd1efbf",
   "outputs": [],
   "execution_count": 17
  },
  {
   "metadata": {
    "ExecuteTime": {
     "end_time": "2025-03-15T11:02:14.659354Z",
     "start_time": "2025-03-15T11:02:14.656378Z"
    }
   },
   "cell_type": "code",
   "source": [
    "def residuals(params):\n",
    "    \"\"\" Lmfit wrapper of the Pythorch objective function. It takes as input parameters object of lmfit and outputs scalar value of numpy type. All autograd functionality is preserved and calculated inside as well as Jacobian and Hessian.\n",
    "\n",
    "     Parameters : lmfit.Parameters object\n",
    "\n",
    "     Returns : numpy scalar value\n",
    "\n",
    "     \"\"\"\n",
    "\n",
    "    param_tensor = params2tensor(params) # Converting to Pytorch tensor\n",
    "    residual_value=Objective(param_tensor) # Keeps PyTorch graph active\n",
    "\n",
    "    global Jacobian, Hessian, Residuals_over, optimization_index,Optimization_counter # Global variables used for get_jacobian and get_hessian functional\n",
    "\n",
    "    # Jacobian and Hessian calculations\n",
    "    Jacobian=torch.autograd.functional.jacobian(Objective,param_tensor).detach().numpy()\n",
    "    Hessian=torch.autograd.functional.hessian(Objective,param_tensor).detach().numpy()\n",
    "\n",
    "    # Detaching residual from computational graph and appending it to history of residuals\n",
    "    residual_value = residual_value.detach().numpy()\n",
    "    Residuals_over.append(residual_value)\n",
    "    Optimization_counter+=1\n",
    "    optimization_index.append(Optimization_counter)\n",
    "\n",
    "    return residual_value"
   ],
   "id": "979db1410fa365c6",
   "outputs": [],
   "execution_count": 18
  },
  {
   "metadata": {},
   "cell_type": "markdown",
   "source": "<h2> Optimization setup",
   "id": "b12b3cb4f37c1393"
  },
  {
   "metadata": {
    "ExecuteTime": {
     "end_time": "2025-03-15T11:02:15.355534Z",
     "start_time": "2025-03-15T11:02:15.353390Z"
    }
   },
   "cell_type": "code",
   "source": [
    "Jacobian=[]\n",
    "Hessian=[]"
   ],
   "id": "131a5ee2677c5d78",
   "outputs": [],
   "execution_count": 19
  },
  {
   "metadata": {
    "ExecuteTime": {
     "end_time": "2025-03-15T11:02:15.548236Z",
     "start_time": "2025-03-15T11:02:15.545393Z"
    }
   },
   "cell_type": "code",
   "source": [
    "Residuals_over=[]\n",
    "optimization_index=[]"
   ],
   "id": "5d5aa8682e141f52",
   "outputs": [],
   "execution_count": 20
  },
  {
   "metadata": {
    "ExecuteTime": {
     "end_time": "2025-03-15T11:02:15.833322Z",
     "start_time": "2025-03-15T11:02:15.830746Z"
    }
   },
   "cell_type": "code",
   "source": [
    "Jaccobian_counter=0\n",
    "Hessian_counter=0\n",
    "Optimization_counter=1"
   ],
   "id": "8f9eb9c3187334cd",
   "outputs": [],
   "execution_count": 21
  },
  {
   "metadata": {
    "ExecuteTime": {
     "end_time": "2025-03-15T11:03:24.561034Z",
     "start_time": "2025-03-15T11:02:15.971818Z"
    }
   },
   "cell_type": "code",
   "source": [
    "minimizer = Minimizer(residuals, params)\n",
    "result = minimizer.minimize(method='trust-ncg',jac=get_jacobian,hess=get_hessian)"
   ],
   "id": "e0075f494bd93592",
   "outputs": [],
   "execution_count": 22
  },
  {
   "metadata": {
    "ExecuteTime": {
     "end_time": "2025-03-15T11:03:42.904492Z",
     "start_time": "2025-03-15T11:03:42.901534Z"
    }
   },
   "cell_type": "code",
   "source": "Jacobian",
   "id": "69fc4ca251f9a46f",
   "outputs": [
    {
     "data": {
      "text/plain": [
       "array([ 8.72891704e-10,  2.31203648e-09,  1.45807973e-10, -1.35598558e-09,\n",
       "        5.16498199e-11, -1.40276161e-10,  1.24692601e-10,  5.36356972e-10,\n",
       "       -1.09948430e-10, -1.17788406e-10,  1.24520170e-10, -3.08783437e-10,\n",
       "        2.52549336e-10, -1.62627657e-10, -4.89460420e-10,  3.16777582e-10,\n",
       "       -9.46999104e-10, -8.76119810e-10, -5.52296521e-07,  4.28134786e-11,\n",
       "        8.90303003e-08, -5.40424627e-08, -1.42140312e-07,  2.04569694e-07,\n",
       "       -2.92835845e-07,  1.48206880e-07, -1.68014125e-07, -3.68588036e-08,\n",
       "       -3.26749335e-07, -2.69125063e-08, -1.19858086e-07,  2.56510044e-07,\n",
       "       -1.81269002e-07, -4.45255399e-07,  3.19968885e-07, -1.92867289e-07,\n",
       "       -1.31244406e-07, -1.00978916e-06, -2.68112618e-07,  7.24806584e-07,\n",
       "        1.07603153e-08,  1.20129156e-07,  1.40395901e-07, -2.81094319e-07,\n",
       "        1.85870159e-08,  1.42018430e-08,  2.28111603e-07,  1.34111665e-07,\n",
       "        2.32282954e-08, -3.09936179e-08,  4.26934218e-07,  1.76748879e-07,\n",
       "        3.73067810e-07,  5.64948863e-07])"
      ]
     },
     "execution_count": 24,
     "metadata": {},
     "output_type": "execute_result"
    }
   ],
   "execution_count": 24
  },
  {
   "metadata": {
    "ExecuteTime": {
     "end_time": "2025-03-15T11:03:54.946004Z",
     "start_time": "2025-03-15T11:03:54.943888Z"
    }
   },
   "cell_type": "code",
   "source": "Jaccobian_counter",
   "id": "a4bff9d9bf827bbb",
   "outputs": [
    {
     "data": {
      "text/plain": [
       "1"
      ]
     },
     "execution_count": 25,
     "metadata": {},
     "output_type": "execute_result"
    }
   ],
   "execution_count": 25
  },
  {
   "metadata": {
    "ExecuteTime": {
     "end_time": "2025-03-15T11:04:27.882803Z",
     "start_time": "2025-03-15T11:04:27.879496Z"
    }
   },
   "cell_type": "code",
   "source": "Hessian_counter",
   "id": "a6773da67c62e3e",
   "outputs": [
    {
     "data": {
      "text/plain": [
       "1"
      ]
     },
     "execution_count": 26,
     "metadata": {},
     "output_type": "execute_result"
    }
   ],
   "execution_count": 26
  },
  {
   "metadata": {
    "ExecuteTime": {
     "end_time": "2025-03-15T11:04:46.955110Z",
     "start_time": "2025-03-15T11:04:46.952873Z"
    }
   },
   "cell_type": "code",
   "source": "Optimization_counter",
   "id": "f1d25bdb6e8243d7",
   "outputs": [
    {
     "data": {
      "text/plain": [
       "7"
      ]
     },
     "execution_count": 27,
     "metadata": {},
     "output_type": "execute_result"
    }
   ],
   "execution_count": 27
  },
  {
   "metadata": {
    "ExecuteTime": {
     "end_time": "2025-03-15T11:03:24.572383Z",
     "start_time": "2025-03-15T11:03:24.569171Z"
    }
   },
   "cell_type": "code",
   "source": "result",
   "id": "aebf3c74734e09d7",
   "outputs": [
    {
     "data": {
      "text/plain": [
       "<lmfit.minimizer.MinimizerResult at 0x2ac4e0d70>"
      ],
      "text/html": [
       "<h2>Fit Result</h2> <table class=\"jp-toc-ignore\"><caption class=\"jp-toc-ignore\">Fit Statistics</caption><tr><td style='text-align:left'>fitting method</td><td style='text-align:right'>trust-ncg</td></tr><tr><td style='text-align:left'># function evals</td><td style='text-align:right'>5</td></tr><tr><td style='text-align:left'># data points</td><td style='text-align:right'>1</td></tr><tr><td style='text-align:left'># variables</td><td style='text-align:right'>54</td></tr><tr><td style='text-align:left'>chi-square</td><td style='text-align:right'> 4.8786e-22</td></tr><tr><td style='text-align:left'>reduced chi-square</td><td style='text-align:right'> 4.8786e-22</td></tr><tr><td style='text-align:left'>Akaike info crit.</td><td style='text-align:right'> 58.9279814</td></tr><tr><td style='text-align:left'>Bayesian info crit.</td><td style='text-align:right'>-49.0720186</td></tr></table><table class=\"jp-toc-ignore\"><caption>Parameters</caption><tr><th style='text-align:left'>name</th><th style='text-align:left'>value</th><th style='text-align:left'>initial value</th><th style='text-align:left'>min</th><th style='text-align:left'>max</th><th style='text-align:right'>vary</th></tr><tr><td style='text-align:left'>t_0</td><td style='text-align:left'> 7.47598759</td><td style='text-align:left'>7.475987589205186</td><td style='text-align:left'> 3.00000000</td><td style='text-align:left'> 10.0000000</td><td style='text-align:right'>True</td></tr><tr><td style='text-align:left'>t_1</td><td style='text-align:left'> 3.17507529</td><td style='text-align:left'>3.1750752865586684</td><td style='text-align:left'> 3.00000000</td><td style='text-align:left'> 10.0000000</td><td style='text-align:right'>True</td></tr><tr><td style='text-align:left'>t_2</td><td style='text-align:left'> 4.92520523</td><td style='text-align:left'>4.925205228583835</td><td style='text-align:left'> 3.00000000</td><td style='text-align:left'> 10.0000000</td><td style='text-align:right'>True</td></tr><tr><td style='text-align:left'>t_3</td><td style='text-align:left'> 4.56247517</td><td style='text-align:left'>4.562475167041759</td><td style='text-align:left'> 3.00000000</td><td style='text-align:left'> 10.0000000</td><td style='text-align:right'>True</td></tr><tr><td style='text-align:left'>t_4</td><td style='text-align:left'> 8.15529850</td><td style='text-align:left'>8.155298499148087</td><td style='text-align:left'> 3.00000000</td><td style='text-align:left'> 10.0000000</td><td style='text-align:right'>True</td></tr><tr><td style='text-align:left'>t_5</td><td style='text-align:left'> 7.73689641</td><td style='text-align:left'>7.736896411960379</td><td style='text-align:left'> 3.00000000</td><td style='text-align:left'> 10.0000000</td><td style='text-align:right'>True</td></tr><tr><td style='text-align:left'>t_6</td><td style='text-align:left'> 9.24525697</td><td style='text-align:left'>9.245256973933918</td><td style='text-align:left'> 3.00000000</td><td style='text-align:left'> 10.0000000</td><td style='text-align:right'>True</td></tr><tr><td style='text-align:left'>t_7</td><td style='text-align:left'> 3.60857183</td><td style='text-align:left'>3.608571828405913</td><td style='text-align:left'> 3.00000000</td><td style='text-align:left'> 10.0000000</td><td style='text-align:right'>True</td></tr><tr><td style='text-align:left'>t_8</td><td style='text-align:left'> 5.95345274</td><td style='text-align:left'>5.953452737796892</td><td style='text-align:left'> 3.00000000</td><td style='text-align:left'> 10.0000000</td><td style='text-align:right'>True</td></tr><tr><td style='text-align:left'>t_9</td><td style='text-align:left'> 3.20858054</td><td style='text-align:left'>3.2085805360664925</td><td style='text-align:left'> 3.00000000</td><td style='text-align:left'> 10.0000000</td><td style='text-align:right'>True</td></tr><tr><td style='text-align:left'>t_10</td><td style='text-align:left'> 4.53046582</td><td style='text-align:left'>4.5304658236252235</td><td style='text-align:left'> 3.00000000</td><td style='text-align:left'> 10.0000000</td><td style='text-align:right'>True</td></tr><tr><td style='text-align:left'>t_11</td><td style='text-align:left'> 6.53748702</td><td style='text-align:left'>6.537487016723537</td><td style='text-align:left'> 3.00000000</td><td style='text-align:left'> 10.0000000</td><td style='text-align:right'>True</td></tr><tr><td style='text-align:left'>t_12</td><td style='text-align:left'> 3.18575179</td><td style='text-align:left'>3.185751787787045</td><td style='text-align:left'> 3.00000000</td><td style='text-align:left'> 10.0000000</td><td style='text-align:right'>True</td></tr><tr><td style='text-align:left'>t_13</td><td style='text-align:left'> 4.39186355</td><td style='text-align:left'>4.391863554806539</td><td style='text-align:left'> 3.00000000</td><td style='text-align:left'> 10.0000000</td><td style='text-align:right'>True</td></tr><tr><td style='text-align:left'>t_14</td><td style='text-align:left'> 7.54919106</td><td style='text-align:left'>7.549191064456663</td><td style='text-align:left'> 3.00000000</td><td style='text-align:left'> 10.0000000</td><td style='text-align:right'>True</td></tr><tr><td style='text-align:left'>t_15</td><td style='text-align:left'> 6.81459036</td><td style='text-align:left'>6.814590364222517</td><td style='text-align:left'> 3.00000000</td><td style='text-align:left'> 10.0000000</td><td style='text-align:right'>True</td></tr><tr><td style='text-align:left'>t_16</td><td style='text-align:left'> 4.54308435</td><td style='text-align:left'>4.543084354284877</td><td style='text-align:left'> 3.00000000</td><td style='text-align:left'> 10.0000000</td><td style='text-align:right'>True</td></tr><tr><td style='text-align:left'>t_17</td><td style='text-align:left'> 7.12485979</td><td style='text-align:left'>7.124859787131361</td><td style='text-align:left'> 3.00000000</td><td style='text-align:left'> 10.0000000</td><td style='text-align:right'>True</td></tr><tr><td style='text-align:left'>t_18</td><td style='text-align:left'> 8.66601320</td><td style='text-align:left'>8.666013196744785</td><td style='text-align:left'> 3.00000000</td><td style='text-align:left'> 10.0000000</td><td style='text-align:right'>True</td></tr><tr><td style='text-align:left'>t_19</td><td style='text-align:left'> 3.04549132</td><td style='text-align:left'>3.045491317746427</td><td style='text-align:left'> 3.00000000</td><td style='text-align:left'> 10.0000000</td><td style='text-align:right'>True</td></tr><tr><td style='text-align:left'>t_20</td><td style='text-align:left'> 8.64073476</td><td style='text-align:left'>8.640734762829656</td><td style='text-align:left'> 3.00000000</td><td style='text-align:left'> 10.0000000</td><td style='text-align:right'>True</td></tr><tr><td style='text-align:left'>t_21</td><td style='text-align:left'> 7.88697576</td><td style='text-align:left'>7.8869757649175884</td><td style='text-align:left'> 3.00000000</td><td style='text-align:left'> 10.0000000</td><td style='text-align:right'>True</td></tr><tr><td style='text-align:left'>t_22</td><td style='text-align:left'> 5.38175362</td><td style='text-align:left'>5.381753615625943</td><td style='text-align:left'> 3.00000000</td><td style='text-align:left'> 10.0000000</td><td style='text-align:right'>True</td></tr><tr><td style='text-align:left'>t_23</td><td style='text-align:left'> 4.08835650</td><td style='text-align:left'>4.0883564986824705</td><td style='text-align:left'> 3.00000000</td><td style='text-align:left'> 10.0000000</td><td style='text-align:right'>True</td></tr><tr><td style='text-align:left'>t_24</td><td style='text-align:left'> 9.70049151</td><td style='text-align:left'>9.700491505447468</td><td style='text-align:left'> 3.00000000</td><td style='text-align:left'> 10.0000000</td><td style='text-align:right'>True</td></tr><tr><td style='text-align:left'>t_25</td><td style='text-align:left'> 5.35616182</td><td style='text-align:left'>5.356161815788387</td><td style='text-align:left'> 3.00000000</td><td style='text-align:left'> 10.0000000</td><td style='text-align:right'>True</td></tr><tr><td style='text-align:left'>t_26</td><td style='text-align:left'> 3.64922090</td><td style='text-align:left'>3.6492209036610355</td><td style='text-align:left'> 3.00000000</td><td style='text-align:left'> 10.0000000</td><td style='text-align:right'>True</td></tr><tr><td style='text-align:left'>t_27</td><td style='text-align:left'> 3.67701464</td><td style='text-align:left'>3.6770146378342483</td><td style='text-align:left'> 3.00000000</td><td style='text-align:left'> 10.0000000</td><td style='text-align:right'>True</td></tr><tr><td style='text-align:left'>t_28</td><td style='text-align:left'> 8.93246056</td><td style='text-align:left'>8.932460564432219</td><td style='text-align:left'> 3.00000000</td><td style='text-align:left'> 10.0000000</td><td style='text-align:right'>True</td></tr><tr><td style='text-align:left'>t_29</td><td style='text-align:left'> 7.22608222</td><td style='text-align:left'>7.226082219568237</td><td style='text-align:left'> 3.00000000</td><td style='text-align:left'> 10.0000000</td><td style='text-align:right'>True</td></tr><tr><td style='text-align:left'>t_30</td><td style='text-align:left'> 8.64989791</td><td style='text-align:left'>8.649897912920661</td><td style='text-align:left'> 3.00000000</td><td style='text-align:left'> 10.0000000</td><td style='text-align:right'>True</td></tr><tr><td style='text-align:left'>t_31</td><td style='text-align:left'> 8.10812251</td><td style='text-align:left'>8.108122506856725</td><td style='text-align:left'> 3.00000000</td><td style='text-align:left'> 10.0000000</td><td style='text-align:right'>True</td></tr><tr><td style='text-align:left'>t_32</td><td style='text-align:left'> 6.75359664</td><td style='text-align:left'>6.753596640182906</td><td style='text-align:left'> 3.00000000</td><td style='text-align:left'> 10.0000000</td><td style='text-align:right'>True</td></tr><tr><td style='text-align:left'>t_33</td><td style='text-align:left'> 9.81181035</td><td style='text-align:left'>9.811810347855594</td><td style='text-align:left'> 3.00000000</td><td style='text-align:left'> 10.0000000</td><td style='text-align:right'>True</td></tr><tr><td style='text-align:left'>t_34</td><td style='text-align:left'> 5.64974064</td><td style='text-align:left'>5.649740640458474</td><td style='text-align:left'> 3.00000000</td><td style='text-align:left'> 10.0000000</td><td style='text-align:right'>True</td></tr><tr><td style='text-align:left'>t_35</td><td style='text-align:left'> 6.86428442</td><td style='text-align:left'>6.86428441891259</td><td style='text-align:left'> 3.00000000</td><td style='text-align:left'> 10.0000000</td><td style='text-align:right'>True</td></tr><tr><td style='text-align:left'>t_36</td><td style='text-align:left'> 5147.02332</td><td style='text-align:left'>5147.023321264975</td><td style='text-align:left'> 1000.00000</td><td style='text-align:left'> 6000.00000</td><td style='text-align:right'>True</td></tr><tr><td style='text-align:left'>t_37</td><td style='text-align:left'> 4092.59876</td><td style='text-align:left'>4092.5987618212303</td><td style='text-align:left'> 1000.00000</td><td style='text-align:left'> 6000.00000</td><td style='text-align:right'>True</td></tr><tr><td style='text-align:left'>t_38</td><td style='text-align:left'> 5308.53450</td><td style='text-align:left'>5308.534501553886</td><td style='text-align:left'> 1000.00000</td><td style='text-align:left'> 6000.00000</td><td style='text-align:right'>True</td></tr><tr><td style='text-align:left'>t_39</td><td style='text-align:left'> 3886.76073</td><td style='text-align:left'>3886.76072628381</td><td style='text-align:left'> 1000.00000</td><td style='text-align:left'> 6000.00000</td><td style='text-align:right'>True</td></tr><tr><td style='text-align:left'>t_40</td><td style='text-align:left'> 4522.85918</td><td style='text-align:left'>4522.8591810746175</td><td style='text-align:left'> 1000.00000</td><td style='text-align:left'> 6000.00000</td><td style='text-align:right'>True</td></tr><tr><td style='text-align:left'>t_41</td><td style='text-align:left'> 1229.12192</td><td style='text-align:left'>1229.121918278311</td><td style='text-align:left'> 1000.00000</td><td style='text-align:left'> 6000.00000</td><td style='text-align:right'>True</td></tr><tr><td style='text-align:left'>t_42</td><td style='text-align:left'> 2139.49138</td><td style='text-align:left'>2139.491378257734</td><td style='text-align:left'> 1000.00000</td><td style='text-align:left'> 6000.00000</td><td style='text-align:right'>True</td></tr><tr><td style='text-align:left'>t_43</td><td style='text-align:left'> 2446.93982</td><td style='text-align:left'>2446.939818010536</td><td style='text-align:left'> 1000.00000</td><td style='text-align:left'> 6000.00000</td><td style='text-align:right'>True</td></tr><tr><td style='text-align:left'>t_44</td><td style='text-align:left'> 1398.95988</td><td style='text-align:left'>1398.9598846181375</td><td style='text-align:left'> 1000.00000</td><td style='text-align:left'> 6000.00000</td><td style='text-align:right'>True</td></tr><tr><td style='text-align:left'>t_45</td><td style='text-align:left'> 2163.95443</td><td style='text-align:left'>2163.954431805151</td><td style='text-align:left'> 1000.00000</td><td style='text-align:left'> 6000.00000</td><td style='text-align:right'>True</td></tr><tr><td style='text-align:left'>t_46</td><td style='text-align:left'> 1505.00715</td><td style='text-align:left'>1505.0071470486455</td><td style='text-align:left'> 1000.00000</td><td style='text-align:left'> 6000.00000</td><td style='text-align:right'>True</td></tr><tr><td style='text-align:left'>t_47</td><td style='text-align:left'> 2389.86802</td><td style='text-align:left'>2389.8680155504608</td><td style='text-align:left'> 1000.00000</td><td style='text-align:left'> 6000.00000</td><td style='text-align:right'>True</td></tr><tr><td style='text-align:left'>t_48</td><td style='text-align:left'> 4178.42222</td><td style='text-align:left'>4178.422221322001</td><td style='text-align:left'> 1000.00000</td><td style='text-align:left'> 6000.00000</td><td style='text-align:right'>True</td></tr><tr><td style='text-align:left'>t_49</td><td style='text-align:left'> 2824.16089</td><td style='text-align:left'>2824.1608948504213</td><td style='text-align:left'> 1000.00000</td><td style='text-align:left'> 6000.00000</td><td style='text-align:right'>True</td></tr><tr><td style='text-align:left'>t_50</td><td style='text-align:left'> 2850.90484</td><td style='text-align:left'>2850.9048355844134</td><td style='text-align:left'> 1000.00000</td><td style='text-align:left'> 6000.00000</td><td style='text-align:right'>True</td></tr><tr><td style='text-align:left'>t_51</td><td style='text-align:left'> 2047.53515</td><td style='text-align:left'>2047.5351538574384</td><td style='text-align:left'> 1000.00000</td><td style='text-align:left'> 6000.00000</td><td style='text-align:right'>True</td></tr><tr><td style='text-align:left'>t_52</td><td style='text-align:left'> 2334.88911</td><td style='text-align:left'>2334.889110245567</td><td style='text-align:left'> 1000.00000</td><td style='text-align:left'> 6000.00000</td><td style='text-align:right'>True</td></tr><tr><td style='text-align:left'>t_53</td><td style='text-align:left'> 5683.27294</td><td style='text-align:left'>5683.27293856247</td><td style='text-align:left'> 1000.00000</td><td style='text-align:left'> 6000.00000</td><td style='text-align:right'>True</td></tr></table>"
      ]
     },
     "execution_count": 23,
     "metadata": {},
     "output_type": "execute_result"
    }
   ],
   "execution_count": 23
  },
  {
   "metadata": {},
   "cell_type": "code",
   "source": "",
   "id": "6b36be36bcd9fd7c",
   "outputs": [],
   "execution_count": null
  }
 ],
 "metadata": {
  "kernelspec": {
   "display_name": "Python 3",
   "language": "python",
   "name": "python3"
  },
  "language_info": {
   "codemirror_mode": {
    "name": "ipython",
    "version": 2
   },
   "file_extension": ".py",
   "mimetype": "text/x-python",
   "name": "python",
   "nbconvert_exporter": "python",
   "pygments_lexer": "ipython2",
   "version": "2.7.6"
  }
 },
 "nbformat": 4,
 "nbformat_minor": 5
}
